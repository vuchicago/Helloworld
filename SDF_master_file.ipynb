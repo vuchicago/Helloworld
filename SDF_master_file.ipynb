{
  "nbformat": 4,
  "nbformat_minor": 0,
  "metadata": {
    "colab": {
      "name": "SDF_master_file.ipynb",
      "provenance": [],
      "collapsed_sections": [],
      "include_colab_link": true
    },
    "kernelspec": {
      "name": "python3",
      "display_name": "Python 3"
    }
  },
  "cells": [
    {
      "cell_type": "markdown",
      "metadata": {
        "id": "view-in-github",
        "colab_type": "text"
      },
      "source": [
        "<a href=\"https://colab.research.google.com/github/vuchicago/Helloworld/blob/master/SDF_master_file.ipynb\" target=\"_parent\"><img src=\"https://colab.research.google.com/assets/colab-badge.svg\" alt=\"Open In Colab\"/></a>"
      ]
    },
    {
      "cell_type": "code",
      "metadata": {
        "id": "_RWxMhPUU3tt",
        "colab_type": "code",
        "outputId": "c936793e-a2d5-40a7-aed1-97b8da25d616",
        "colab": {
          "base_uri": "https://localhost:8080/",
          "height": 122
        }
      },
      "source": [
        "####MOUNT DRIVE\n",
        "from google.colab import drive\n",
        "drive.mount('/content/gdrive',force_remount=True)"
      ],
      "execution_count": 1,
      "outputs": [
        {
          "output_type": "stream",
          "text": [
            "Go to this URL in a browser: https://accounts.google.com/o/oauth2/auth?client_id=947318989803-6bn6qk8qdgf4n4g3pfee6491hc0brc4i.apps.googleusercontent.com&redirect_uri=urn%3aietf%3awg%3aoauth%3a2.0%3aoob&response_type=code&scope=email%20https%3a%2f%2fwww.googleapis.com%2fauth%2fdocs.test%20https%3a%2f%2fwww.googleapis.com%2fauth%2fdrive%20https%3a%2f%2fwww.googleapis.com%2fauth%2fdrive.photos.readonly%20https%3a%2f%2fwww.googleapis.com%2fauth%2fpeopleapi.readonly\n",
            "\n",
            "Enter your authorization code:\n",
            "··········\n",
            "Mounted at /content/gdrive\n"
          ],
          "name": "stdout"
        }
      ]
    },
    {
      "cell_type": "code",
      "metadata": {
        "id": "wayaOL22U7fo",
        "colab_type": "code",
        "colab": {}
      },
      "source": [
        "import os\n",
        "import pandas as pd\n",
        "import datetime as dt\n",
        "from datetime import date,timedelta as td\n",
        "\n",
        "\n",
        "dir='/content/gdrive/My Drive' ##original  directory\n",
        "\n",
        "dir_main=os.path.join(dir,'US Cement Extraction Files')\n",
        "dir_yearly=os.path.join(dir_main,\"Yearly\")\n",
        "dir_daily=os.path.join(dir_main,\"Daily\")\n",
        "dir_output=os.path.join(dir_main,\"Output_Files\")\n",
        "\n",
        "\n",
        "sdf_dir=os.path.join(dir,\"SDF Outputs\") ###SDF Main Directory\n",
        "sdf_dir_weekly=os.path.join(sdf_dir,\"Weekly\") ###Weekly SDF Output Directory\n",
        "sdf_dir_monthly=os.path.join(sdf_dir,\"Monthly\") ###Monthly SDF OUtput Directory\n",
        "sdf_dir_monthly_v2=os.path.join(sdf_dir,\"Monthly_noprojects\")\n",
        "\n",
        "\n",
        "\n",
        "os.chdir(dir_yearly)"
      ],
      "execution_count": 0,
      "outputs": []
    },
    {
      "cell_type": "code",
      "metadata": {
        "id": "MsFH3SKVnJG8",
        "colab_type": "code",
        "colab": {}
      },
      "source": [
        "list_dir=os.listdir(dir_yearly)"
      ],
      "execution_count": 0,
      "outputs": []
    },
    {
      "cell_type": "code",
      "metadata": {
        "id": "yxUU9BDVTyAv",
        "colab_type": "code",
        "outputId": "43e9e189-a238-4b7f-cce5-6e827b7a5a5a",
        "colab": {
          "base_uri": "https://localhost:8080/",
          "height": 153
        }
      },
      "source": [
        "list_dir"
      ],
      "execution_count": 0,
      "outputs": [
        {
          "output_type": "execute_result",
          "data": {
            "text/plain": [
              "['HUS_Cement_Report_201601.csv',\n",
              " 'HUS_Cement_Report_201602.csv',\n",
              " 'HUS_Cement_Report_201701.csv',\n",
              " 'HUS_Cement_Report_201702.csv',\n",
              " 'HUS_Cement_Report_201801.csv',\n",
              " 'HUS_Cement_Report_201802.csv',\n",
              " 'HUS_Cement_Report_201901.csv',\n",
              " 'HUS_Cement_Report_201902.csv']"
            ]
          },
          "metadata": {
            "tags": []
          },
          "execution_count": 66
        }
      ]
    },
    {
      "cell_type": "code",
      "metadata": {
        "id": "B4mqu-Z06Arn",
        "colab_type": "code",
        "outputId": "d501c9d2-10ec-4438-f2bd-1637c039a5be",
        "colab": {
          "base_uri": "https://localhost:8080/",
          "height": 392
        }
      },
      "source": [
        "#######THIS CODE TESTS THAT THE DATE RANGES DO NOT OVERLAP WITHIN THE FILES.  INSPECT THE OUTPUT TO MAKE SURE THAT THE DATES DON'T OVERLAP\n",
        "date_col=[\"Calendar day\"]\n",
        "date_list=[]\n",
        "for files in list_dir:\n",
        "  file_name=pd.read_csv(files,parse_dates=True)\n",
        "  max_date=file_name[date_col].max()\n",
        "  min_date=file_name[date_col].min()\n",
        "  date_list.append(max_date[0])\n",
        "  date_list.append(min_date[0])\n",
        "\n",
        "#### SHOULD BE 'GOOD TO GO' IF THERE ARE NO OVERLAPPING DATES ############\n",
        "date_list.sort()\n",
        "for i,date in enumerate(date_list):\n",
        "  if date_list[i]<date_list[i-1]:\n",
        "    print(\"Overlapping Dates at\".format(date))\n",
        "  else:\n",
        "    print(\"Good to Go\")"
      ],
      "execution_count": 0,
      "outputs": [
        {
          "output_type": "stream",
          "text": [
            "/usr/local/lib/python3.6/dist-packages/IPython/core/interactiveshell.py:2718: DtypeWarning: Columns (0,18,20,29,34) have mixed types. Specify dtype option on import or set low_memory=False.\n",
            "  interactivity=interactivity, compiler=compiler, result=result)\n",
            "/usr/local/lib/python3.6/dist-packages/IPython/core/interactiveshell.py:2718: DtypeWarning: Columns (0,2,18,20,34) have mixed types. Specify dtype option on import or set low_memory=False.\n",
            "  interactivity=interactivity, compiler=compiler, result=result)\n",
            "/usr/local/lib/python3.6/dist-packages/IPython/core/interactiveshell.py:2718: DtypeWarning: Columns (0,2,18,20,24,29,34) have mixed types. Specify dtype option on import or set low_memory=False.\n",
            "  interactivity=interactivity, compiler=compiler, result=result)\n"
          ],
          "name": "stderr"
        },
        {
          "output_type": "stream",
          "text": [
            "Overlapping Dates at\n",
            "Good to Go\n",
            "Good to Go\n",
            "Good to Go\n",
            "Good to Go\n",
            "Good to Go\n",
            "Good to Go\n",
            "Good to Go\n",
            "Good to Go\n",
            "Good to Go\n",
            "Good to Go\n",
            "Good to Go\n",
            "Good to Go\n",
            "Good to Go\n",
            "Good to Go\n",
            "Good to Go\n"
          ],
          "name": "stdout"
        }
      ]
    },
    {
      "cell_type": "code",
      "metadata": {
        "id": "G6KqcFmonRQI",
        "colab_type": "code",
        "outputId": "0c9d3828-6708-44a3-bd1c-d75b5661b620",
        "colab": {
          "base_uri": "https://localhost:8080/",
          "height": 119
        }
      },
      "source": [
        "############### CONCATENATES ALL THE FILES TOGETHER TO CREATE A MAIN FILE (STACKED COLUMNS)\n",
        "Main_file=pd.DataFrame()\n",
        "for files in list_dir:\n",
        "  Main_file=pd.concat([Main_file,pd.read_csv(files)])"
      ],
      "execution_count": 0,
      "outputs": [
        {
          "output_type": "stream",
          "text": [
            "/usr/local/lib/python3.6/dist-packages/IPython/core/interactiveshell.py:2718: DtypeWarning: Columns (0,18,20,29,34) have mixed types. Specify dtype option on import or set low_memory=False.\n",
            "  interactivity=interactivity, compiler=compiler, result=result)\n",
            "/usr/local/lib/python3.6/dist-packages/IPython/core/interactiveshell.py:2718: DtypeWarning: Columns (0,2,18,20,34) have mixed types. Specify dtype option on import or set low_memory=False.\n",
            "  interactivity=interactivity, compiler=compiler, result=result)\n",
            "/usr/local/lib/python3.6/dist-packages/IPython/core/interactiveshell.py:2718: DtypeWarning: Columns (0,2,18,20,24,29,34) have mixed types. Specify dtype option on import or set low_memory=False.\n",
            "  interactivity=interactivity, compiler=compiler, result=result)\n"
          ],
          "name": "stderr"
        }
      ]
    },
    {
      "cell_type": "code",
      "metadata": {
        "id": "p5r5JcmSoPMv",
        "colab_type": "code",
        "colab": {}
      },
      "source": [
        "os.chdir(dir_output)"
      ],
      "execution_count": 0,
      "outputs": []
    },
    {
      "cell_type": "code",
      "metadata": {
        "id": "anKLbfRgt-Bw",
        "colab_type": "code",
        "colab": {}
      },
      "source": [
        "\n",
        "Main_file.to_csv(\"Main_file.csv\")"
      ],
      "execution_count": 0,
      "outputs": []
    },
    {
      "cell_type": "code",
      "metadata": {
        "id": "EzFp6At95qPJ",
        "colab_type": "code",
        "outputId": "9970bef8-9f38-435f-eff1-82e07021143e",
        "colab": {
          "base_uri": "https://localhost:8080/",
          "height": 51
        }
      },
      "source": [
        "####################################################################################################################################################################################################\n",
        "####################################################################################################################################################################################################\n",
        "####################################################################################################################################################################################################\n",
        "############################## START HERE IF MAIN FILE HAS ALREADY BEEN CREATED ################################################################################################\n",
        "os.chdir(dir_output)\n",
        "Main_file=pd.read_csv(\"Main_file.csv\")"
      ],
      "execution_count": 0,
      "outputs": [
        {
          "output_type": "stream",
          "text": [
            "/usr/local/lib/python3.6/dist-packages/IPython/core/interactiveshell.py:2718: DtypeWarning: Columns (1,3,19,21,25,29,30,35) have mixed types. Specify dtype option on import or set low_memory=False.\n",
            "  interactivity=interactivity, compiler=compiler, result=result)\n"
          ],
          "name": "stderr"
        }
      ]
    },
    {
      "cell_type": "code",
      "metadata": {
        "id": "ce2q2uVLXjqd",
        "colab_type": "code",
        "colab": {}
      },
      "source": [
        "Main_file=Main_file[Main_file[\"Product Type Name\"]==\"CEMENT\"]\n",
        "Main_file=Main_file[~Main_file[\"Sold To\"].isin([\"P5W02\",\"P5W11\"])]"
      ],
      "execution_count": 0,
      "outputs": []
    },
    {
      "cell_type": "code",
      "metadata": {
        "id": "sFT_RDfIwCri",
        "colab_type": "code",
        "outputId": "433f6c69-e9d6-44d9-dc2c-ecd336289562",
        "colab": {
          "base_uri": "https://localhost:8080/",
          "height": 273
        }
      },
      "source": [
        "####### Daily data  time\n",
        "\n",
        "os.chdir(dir_daily)\n",
        "list_dir_daily=os.listdir(dir_daily)\n",
        "list(list_dir_daily)"
      ],
      "execution_count": 0,
      "outputs": [
        {
          "output_type": "execute_result",
          "data": {
            "text/plain": [
              "['HUS_Cement_Report_20191119.csv',\n",
              " 'HUS_Cement_Report_20191120.csv',\n",
              " 'HUS_Cement_Report_20191121.csv',\n",
              " 'HUS_Cement_Report_20191122.csv',\n",
              " 'HUS_Cement_Report_20191123.csv',\n",
              " 'HUS_Cement_Report_20191124.csv',\n",
              " 'HUS_Cement_Report_20191125.csv',\n",
              " 'HUS_Cement_Report_20191126.csv',\n",
              " 'HUS_Cement_Report_20191127.csv',\n",
              " 'HUS_Cement_Report_20191128.csv',\n",
              " 'HUS_Cement_Report_20191129.csv',\n",
              " 'HUS_Cement_Report_20191130.csv',\n",
              " 'HUS_Cement_Report_20191201.csv',\n",
              " 'HUS_Cement_Report_20191202.csv',\n",
              " 'HUS_Cement_Report_20191203.csv']"
            ]
          },
          "metadata": {
            "tags": []
          },
          "execution_count": 76
        }
      ]
    },
    {
      "cell_type": "code",
      "metadata": {
        "id": "3nr2VQEH1SOt",
        "colab_type": "code",
        "outputId": "c41b2c71-992a-4529-93bc-84b3e7cea994",
        "colab": {
          "base_uri": "https://localhost:8080/",
          "height": 204
        }
      },
      "source": [
        "########## FILTERS THE DAILY DATA TO SELECT ONLY DATA THAT'S MOST UP-TO DATE\n",
        "\n",
        "date_min=Main_file[\"Calendar day\"].min()\n",
        "date_max=Main_file[\"Calendar day\"].max()\n",
        "for files in list_dir_daily:\n",
        "  new_file=pd.read_csv(files,date_parser={'Month','Day','Year'})\n",
        "  new_file=new_file[pd.to_datetime(new_file[\"Calendar day\"])<=date.today()]\n",
        "  if new_file[\"Calendar day\"].max()>date_max:\n",
        "    date_min=new_file[\"Calendar day\"].min()\n",
        "    Main_file=Main_file[Main_file[\"Calendar day\"]<date_min]\n",
        "    Main_file=pd.concat([new_file,Main_file],sort=True)\n",
        "\n",
        "print(Main_file[\"Calendar day\"].max())"
      ],
      "execution_count": 0,
      "outputs": [
        {
          "output_type": "stream",
          "text": [
            "/usr/local/lib/python3.6/dist-packages/IPython/core/interactiveshell.py:2718: DtypeWarning: Columns (0,2,18,20,34) have mixed types. Specify dtype option on import or set low_memory=False.\n",
            "  interactivity=interactivity, compiler=compiler, result=result)\n",
            "/usr/local/lib/python3.6/dist-packages/ipykernel_launcher.py:6: FutureWarning: Comparing Series of datetimes with 'datetime.date'.  Currently, the\n",
            "'datetime.date' is coerced to a datetime. In the future pandas will\n",
            "not coerce, and a TypeError will be raised. To retain the current\n",
            "behavior, convert the 'datetime.date' to a datetime with\n",
            "'pd.Timestamp'.\n",
            "  \n",
            "/usr/local/lib/python3.6/dist-packages/IPython/core/interactiveshell.py:2718: DtypeWarning: Columns (0,2,18) have mixed types. Specify dtype option on import or set low_memory=False.\n",
            "  interactivity=interactivity, compiler=compiler, result=result)\n"
          ],
          "name": "stderr"
        },
        {
          "output_type": "stream",
          "text": [
            "2019-12-02\n"
          ],
          "name": "stdout"
        }
      ]
    },
    {
      "cell_type": "code",
      "metadata": {
        "id": "mZVEhl3VXpbR",
        "colab_type": "code",
        "colab": {}
      },
      "source": [
        "#################REPLACE INTEGERS TO STRINGS AND VICE VERSA.  TAKES A VERY LONG TIME.\n",
        "\n",
        "Main_file[\"Plant\"]=Main_file[\"Plant\"].astype(str)\n",
        "Main_file[\"Product Class Name\"]=Main_file[\"Product Class Name\"].astype(str)\n",
        "Main_file[\"Sold To\"]=Main_file[\"Sold To\"].apply(pd.to_numeric,downcast='integer',errors='ignore') ########THIS CONVERTS NUMERIC STRINGS TO NUMERIC.  TAKES  A VERY LONG TIME TO RUN.  MUST FIND BETTER OPTION"
      ],
      "execution_count": 0,
      "outputs": []
    },
    {
      "cell_type": "code",
      "metadata": {
        "id": "OjqezBtZgaV7",
        "colab_type": "code",
        "outputId": "70576bd7-efa2-4d6e-dc68-37cd63457085",
        "colab": {
          "base_uri": "https://localhost:8080/",
          "height": 34
        }
      },
      "source": [
        "\n",
        "len(Main_file[\"Sold To\"].unique())"
      ],
      "execution_count": 0,
      "outputs": [
        {
          "output_type": "execute_result",
          "data": {
            "text/plain": [
              "3614"
            ]
          },
          "metadata": {
            "tags": []
          },
          "execution_count": 79
        }
      ]
    },
    {
      "cell_type": "code",
      "metadata": {
        "id": "K1ktzWM1uhHC",
        "colab_type": "code",
        "outputId": "4c662473-a0ff-4739-d173-5205dbc2e479",
        "colab": {
          "base_uri": "https://localhost:8080/",
          "height": 439
        }
      },
      "source": [
        "####Used to Validate (1/2)\n",
        "Main_file[(Main_file[\"Plant\"] == '5473') & (Main_file[\"Material Code\"]==443) & (Main_file[\"Product Form Name\"]==\"Bulk\") & (Main_file[\"Product Class Name\"]=='I..')].head()"
      ],
      "execution_count": 0,
      "outputs": [
        {
          "output_type": "execute_result",
          "data": {
            "text/html": [
              "<div>\n",
              "<style scoped>\n",
              "    .dataframe tbody tr th:only-of-type {\n",
              "        vertical-align: middle;\n",
              "    }\n",
              "\n",
              "    .dataframe tbody tr th {\n",
              "        vertical-align: top;\n",
              "    }\n",
              "\n",
              "    .dataframe thead th {\n",
              "        text-align: right;\n",
              "    }\n",
              "</style>\n",
              "<table border=\"1\" class=\"dataframe\">\n",
              "  <thead>\n",
              "    <tr style=\"text-align: right;\">\n",
              "      <th></th>\n",
              "      <th>BASE LIST PRICE</th>\n",
              "      <th>Billing document</th>\n",
              "      <th>Business Region</th>\n",
              "      <th>Business Region Name</th>\n",
              "      <th>Cal. year / month</th>\n",
              "      <th>Calendar day</th>\n",
              "      <th>Customer Group</th>\n",
              "      <th>Customer Group Name</th>\n",
              "      <th>DEDUCTIONS</th>\n",
              "      <th>Incoterms</th>\n",
              "      <th>Incoterms Name</th>\n",
              "      <th>Industry Code</th>\n",
              "      <th>Industry Code Name</th>\n",
              "      <th>Material</th>\n",
              "      <th>Material Code</th>\n",
              "      <th>Micromarket</th>\n",
              "      <th>Micromarket Name</th>\n",
              "      <th>OUTBOUND FREIGHT</th>\n",
              "      <th>Parent</th>\n",
              "      <th>Parent Name</th>\n",
              "      <th>Plant</th>\n",
              "      <th>Plant Name</th>\n",
              "      <th>Product Class Name</th>\n",
              "      <th>Product Family</th>\n",
              "      <th>Product Family Name</th>\n",
              "      <th>Product Form</th>\n",
              "      <th>Product Form Name</th>\n",
              "      <th>Product Type</th>\n",
              "      <th>Product Type Name</th>\n",
              "      <th>Sales District</th>\n",
              "      <th>Sales District Name</th>\n",
              "      <th>Sales Group</th>\n",
              "      <th>Sales Group Name</th>\n",
              "      <th>Ship To</th>\n",
              "      <th>Ship To Name</th>\n",
              "      <th>Sold To</th>\n",
              "      <th>Sold To Name</th>\n",
              "      <th>Source Location</th>\n",
              "      <th>Source Location Name</th>\n",
              "      <th>TONS</th>\n",
              "      <th>TPM Average Selling Price</th>\n",
              "      <th>Transportation Mode</th>\n",
              "      <th>Transportation Mode Name</th>\n",
              "    </tr>\n",
              "  </thead>\n",
              "  <tbody>\n",
              "    <tr>\n",
              "      <th>59086</th>\n",
              "      <td>5479.50</td>\n",
              "      <td>9036772389</td>\n",
              "      <td>#</td>\n",
              "      <td>Not Assigned</td>\n",
              "      <td>11/2019</td>\n",
              "      <td>2019-11-15</td>\n",
              "      <td>1</td>\n",
              "      <td>Free</td>\n",
              "      <td>0.0</td>\n",
              "      <td>FP</td>\n",
              "      <td>Freight Prepaid (delivered)</td>\n",
              "      <td>32732</td>\n",
              "      <td>READY MIXED CONC</td>\n",
              "      <td>PORTLAND, TYPE GU</td>\n",
              "      <td>443</td>\n",
              "      <td>SEND</td>\n",
              "      <td>NORTH DAKOTA SOUTHEAST</td>\n",
              "      <td>-734.49</td>\n",
              "      <td>0000061789</td>\n",
              "      <td>STRATA CORPORATION</td>\n",
              "      <td>5473</td>\n",
              "      <td>VALLEY CITY TERMINAL</td>\n",
              "      <td>I..</td>\n",
              "      <td>PL</td>\n",
              "      <td>PORTLAND</td>\n",
              "      <td>B</td>\n",
              "      <td>Bulk</td>\n",
              "      <td>1</td>\n",
              "      <td>CEMENT</td>\n",
              "      <td>1521</td>\n",
              "      <td>W ND / NW SD</td>\n",
              "      <td>170</td>\n",
              "      <td>NORTHERN</td>\n",
              "      <td>1608672</td>\n",
              "      <td>STRATA CORPORATION</td>\n",
              "      <td>61789</td>\n",
              "      <td>STRATA CORPORATION</td>\n",
              "      <td>2H01</td>\n",
              "      <td>EXSHAW PLANT</td>\n",
              "      <td>30.219</td>\n",
              "      <td>5479.50</td>\n",
              "      <td>3</td>\n",
              "      <td>Truck</td>\n",
              "    </tr>\n",
              "    <tr>\n",
              "      <th>59087</th>\n",
              "      <td>5492.66</td>\n",
              "      <td>9037073853</td>\n",
              "      <td>#</td>\n",
              "      <td>Not Assigned</td>\n",
              "      <td>11/2019</td>\n",
              "      <td>2019-11-14</td>\n",
              "      <td>1</td>\n",
              "      <td>Free</td>\n",
              "      <td>0.0</td>\n",
              "      <td>FP</td>\n",
              "      <td>Freight Prepaid (delivered)</td>\n",
              "      <td>32732</td>\n",
              "      <td>READY MIXED CONC</td>\n",
              "      <td>PORTLAND, TYPE GU</td>\n",
              "      <td>443</td>\n",
              "      <td>SEND</td>\n",
              "      <td>NORTH DAKOTA SOUTHEAST</td>\n",
              "      <td>-736.25</td>\n",
              "      <td>0000061789</td>\n",
              "      <td>STRATA CORPORATION</td>\n",
              "      <td>5473</td>\n",
              "      <td>VALLEY CITY TERMINAL</td>\n",
              "      <td>I..</td>\n",
              "      <td>PL</td>\n",
              "      <td>PORTLAND</td>\n",
              "      <td>B</td>\n",
              "      <td>Bulk</td>\n",
              "      <td>1</td>\n",
              "      <td>CEMENT</td>\n",
              "      <td>1521</td>\n",
              "      <td>W ND / NW SD</td>\n",
              "      <td>170</td>\n",
              "      <td>NORTHERN</td>\n",
              "      <td>1608672</td>\n",
              "      <td>STRATA CORPORATION</td>\n",
              "      <td>61789</td>\n",
              "      <td>STRATA CORPORATION</td>\n",
              "      <td>2H01</td>\n",
              "      <td>EXSHAW PLANT</td>\n",
              "      <td>30.291</td>\n",
              "      <td>5492.66</td>\n",
              "      <td>3</td>\n",
              "      <td>Truck</td>\n",
              "    </tr>\n",
              "    <tr>\n",
              "      <th>59088</th>\n",
              "      <td>4351.03</td>\n",
              "      <td>9036772390</td>\n",
              "      <td>#</td>\n",
              "      <td>Not Assigned</td>\n",
              "      <td>11/2019</td>\n",
              "      <td>2019-11-15</td>\n",
              "      <td>1</td>\n",
              "      <td>Free</td>\n",
              "      <td>0.0</td>\n",
              "      <td>FP</td>\n",
              "      <td>Freight Prepaid (delivered)</td>\n",
              "      <td>32732</td>\n",
              "      <td>READY MIXED CONC</td>\n",
              "      <td>PORTLAND, TYPE GU</td>\n",
              "      <td>443</td>\n",
              "      <td>SEND</td>\n",
              "      <td>NORTH DAKOTA SOUTHEAST</td>\n",
              "      <td>-583.22</td>\n",
              "      <td>0000061789</td>\n",
              "      <td>STRATA CORPORATION</td>\n",
              "      <td>5473</td>\n",
              "      <td>VALLEY CITY TERMINAL</td>\n",
              "      <td>I..</td>\n",
              "      <td>PL</td>\n",
              "      <td>PORTLAND</td>\n",
              "      <td>B</td>\n",
              "      <td>Bulk</td>\n",
              "      <td>1</td>\n",
              "      <td>CEMENT</td>\n",
              "      <td>1521</td>\n",
              "      <td>W ND / NW SD</td>\n",
              "      <td>170</td>\n",
              "      <td>NORTHERN</td>\n",
              "      <td>1608672</td>\n",
              "      <td>STRATA CORPORATION</td>\n",
              "      <td>61789</td>\n",
              "      <td>STRATA CORPORATION</td>\n",
              "      <td>2H01</td>\n",
              "      <td>EXSHAW PLANT</td>\n",
              "      <td>23.995</td>\n",
              "      <td>4351.03</td>\n",
              "      <td>3</td>\n",
              "      <td>Truck</td>\n",
              "    </tr>\n",
              "    <tr>\n",
              "      <th>59089</th>\n",
              "      <td>4331.29</td>\n",
              "      <td>9037073852</td>\n",
              "      <td>#</td>\n",
              "      <td>Not Assigned</td>\n",
              "      <td>11/2019</td>\n",
              "      <td>2019-11-14</td>\n",
              "      <td>1</td>\n",
              "      <td>Free</td>\n",
              "      <td>0.0</td>\n",
              "      <td>FP</td>\n",
              "      <td>Freight Prepaid (delivered)</td>\n",
              "      <td>32732</td>\n",
              "      <td>READY MIXED CONC</td>\n",
              "      <td>PORTLAND, TYPE GU</td>\n",
              "      <td>443</td>\n",
              "      <td>SEND</td>\n",
              "      <td>NORTH DAKOTA SOUTHEAST</td>\n",
              "      <td>-580.58</td>\n",
              "      <td>0000061789</td>\n",
              "      <td>STRATA CORPORATION</td>\n",
              "      <td>5473</td>\n",
              "      <td>VALLEY CITY TERMINAL</td>\n",
              "      <td>I..</td>\n",
              "      <td>PL</td>\n",
              "      <td>PORTLAND</td>\n",
              "      <td>B</td>\n",
              "      <td>Bulk</td>\n",
              "      <td>1</td>\n",
              "      <td>CEMENT</td>\n",
              "      <td>1521</td>\n",
              "      <td>W ND / NW SD</td>\n",
              "      <td>170</td>\n",
              "      <td>NORTHERN</td>\n",
              "      <td>1608672</td>\n",
              "      <td>STRATA CORPORATION</td>\n",
              "      <td>61789</td>\n",
              "      <td>STRATA CORPORATION</td>\n",
              "      <td>2H01</td>\n",
              "      <td>EXSHAW PLANT</td>\n",
              "      <td>23.887</td>\n",
              "      <td>4331.29</td>\n",
              "      <td>3</td>\n",
              "      <td>Truck</td>\n",
              "    </tr>\n",
              "    <tr>\n",
              "      <th>59090</th>\n",
              "      <td>5538.72</td>\n",
              "      <td>9037056431</td>\n",
              "      <td>#</td>\n",
              "      <td>Not Assigned</td>\n",
              "      <td>11/2019</td>\n",
              "      <td>2019-11-13</td>\n",
              "      <td>1</td>\n",
              "      <td>Free</td>\n",
              "      <td>0.0</td>\n",
              "      <td>FP</td>\n",
              "      <td>Freight Prepaid (delivered)</td>\n",
              "      <td>32732</td>\n",
              "      <td>READY MIXED CONC</td>\n",
              "      <td>PORTLAND, TYPE GU</td>\n",
              "      <td>443</td>\n",
              "      <td>SEND</td>\n",
              "      <td>NORTH DAKOTA SOUTHEAST</td>\n",
              "      <td>-742.42</td>\n",
              "      <td>0000061789</td>\n",
              "      <td>STRATA CORPORATION</td>\n",
              "      <td>5473</td>\n",
              "      <td>VALLEY CITY TERMINAL</td>\n",
              "      <td>I..</td>\n",
              "      <td>PL</td>\n",
              "      <td>PORTLAND</td>\n",
              "      <td>B</td>\n",
              "      <td>Bulk</td>\n",
              "      <td>1</td>\n",
              "      <td>CEMENT</td>\n",
              "      <td>1521</td>\n",
              "      <td>W ND / NW SD</td>\n",
              "      <td>170</td>\n",
              "      <td>NORTHERN</td>\n",
              "      <td>1608672</td>\n",
              "      <td>STRATA CORPORATION</td>\n",
              "      <td>61789</td>\n",
              "      <td>STRATA CORPORATION</td>\n",
              "      <td>2H01</td>\n",
              "      <td>EXSHAW PLANT</td>\n",
              "      <td>30.545</td>\n",
              "      <td>5538.72</td>\n",
              "      <td>3</td>\n",
              "      <td>Truck</td>\n",
              "    </tr>\n",
              "  </tbody>\n",
              "</table>\n",
              "</div>"
            ],
            "text/plain": [
              "       BASE LIST PRICE  ...  Transportation Mode Name\n",
              "59086          5479.50  ...                     Truck\n",
              "59087          5492.66  ...                     Truck\n",
              "59088          4351.03  ...                     Truck\n",
              "59089          4331.29  ...                     Truck\n",
              "59090          5538.72  ...                     Truck\n",
              "\n",
              "[5 rows x 43 columns]"
            ]
          },
          "metadata": {
            "tags": []
          },
          "execution_count": 80
        }
      ]
    },
    {
      "cell_type": "code",
      "metadata": {
        "id": "gGQSow6rgZsp",
        "colab_type": "code",
        "outputId": "0559186c-994d-443e-d489-af86a373b512",
        "colab": {
          "base_uri": "https://localhost:8080/",
          "height": 614
        }
      },
      "source": [
        "#### CHANGE PRODUCT CLASS ONLY\n",
        "Main_file[\"Product Class Name\"][(Main_file[\"Plant\"]=='5470') & (Main_file[\"Material Code\"]==443) & (Main_file[\"Product Form Name\"]==\"Bulk\") & (Main_file[\"Product Class Name\"]=='I..')]='1/2'\n",
        "Main_file[\"Product Class Name\"][(Main_file[\"Plant\"]=='5471') & (Main_file[\"Material Code\"]==443) & (Main_file[\"Product Form Name\"]==\"Bulk\") & (Main_file[\"Product Class Name\"]=='I..')]='1/2'\n",
        "Main_file[\"Product Class Name\"][(Main_file[\"Plant\"]=='5473') & (Main_file[\"Material Code\"]==443) & (Main_file[\"Product Form Name\"]==\"Bulk\") & (Main_file[\"Product Class Name\"]=='I..')]='1/2'\n",
        "Main_file[\"Product Class Name\"][(Main_file[\"Plant\"]=='5475') & (Main_file[\"Material Code\"]==443) & (Main_file[\"Product Form Name\"]==\"Bulk\") & (Main_file[\"Product Class Name\"]=='I..')]='1/2'\n",
        "Main_file[\"Product Class Name\"][(Main_file[\"Plant\"]=='5476') & (Main_file[\"Material Code\"]==443) & (Main_file[\"Product Form Name\"]==\"Bulk\") & (Main_file[\"Product Class Name\"]=='I..')]='1/2'\n",
        "Main_file[\"Product Class Name\"][(Main_file[\"Plant\"]=='5469') & (Main_file[\"Material Code\"]==443) & (Main_file[\"Product Form Name\"]==\"Bulk\") & (Main_file[\"Product Class Name\"]=='I..')]='1/2'\n",
        "Main_file[\"Product Class Name\"][(Main_file[\"Plant\"]=='5475') & (Main_file[\"Material Code\"]==3041) & (Main_file[\"Product Form Name\"]==\"Bulk\") & (Main_file[\"Product Class Name\"]=='I..')]='1/2'"
      ],
      "execution_count": 0,
      "outputs": [
        {
          "output_type": "stream",
          "text": [
            "/usr/local/lib/python3.6/dist-packages/ipykernel_launcher.py:1: SettingWithCopyWarning: \n",
            "A value is trying to be set on a copy of a slice from a DataFrame\n",
            "\n",
            "See the caveats in the documentation: http://pandas.pydata.org/pandas-docs/stable/user_guide/indexing.html#returning-a-view-versus-a-copy\n",
            "  \"\"\"Entry point for launching an IPython kernel.\n",
            "/usr/local/lib/python3.6/dist-packages/ipykernel_launcher.py:2: SettingWithCopyWarning: \n",
            "A value is trying to be set on a copy of a slice from a DataFrame\n",
            "\n",
            "See the caveats in the documentation: http://pandas.pydata.org/pandas-docs/stable/user_guide/indexing.html#returning-a-view-versus-a-copy\n",
            "  \n",
            "/usr/local/lib/python3.6/dist-packages/ipykernel_launcher.py:3: SettingWithCopyWarning: \n",
            "A value is trying to be set on a copy of a slice from a DataFrame\n",
            "\n",
            "See the caveats in the documentation: http://pandas.pydata.org/pandas-docs/stable/user_guide/indexing.html#returning-a-view-versus-a-copy\n",
            "  This is separate from the ipykernel package so we can avoid doing imports until\n",
            "/usr/local/lib/python3.6/dist-packages/ipykernel_launcher.py:4: SettingWithCopyWarning: \n",
            "A value is trying to be set on a copy of a slice from a DataFrame\n",
            "\n",
            "See the caveats in the documentation: http://pandas.pydata.org/pandas-docs/stable/user_guide/indexing.html#returning-a-view-versus-a-copy\n",
            "  after removing the cwd from sys.path.\n",
            "/usr/local/lib/python3.6/dist-packages/ipykernel_launcher.py:5: SettingWithCopyWarning: \n",
            "A value is trying to be set on a copy of a slice from a DataFrame\n",
            "\n",
            "See the caveats in the documentation: http://pandas.pydata.org/pandas-docs/stable/user_guide/indexing.html#returning-a-view-versus-a-copy\n",
            "  \"\"\"\n",
            "/usr/local/lib/python3.6/dist-packages/ipykernel_launcher.py:6: SettingWithCopyWarning: \n",
            "A value is trying to be set on a copy of a slice from a DataFrame\n",
            "\n",
            "See the caveats in the documentation: http://pandas.pydata.org/pandas-docs/stable/user_guide/indexing.html#returning-a-view-versus-a-copy\n",
            "  \n",
            "/usr/local/lib/python3.6/dist-packages/ipykernel_launcher.py:7: SettingWithCopyWarning: \n",
            "A value is trying to be set on a copy of a slice from a DataFrame\n",
            "\n",
            "See the caveats in the documentation: http://pandas.pydata.org/pandas-docs/stable/user_guide/indexing.html#returning-a-view-versus-a-copy\n",
            "  import sys\n"
          ],
          "name": "stderr"
        }
      ]
    },
    {
      "cell_type": "code",
      "metadata": {
        "id": "qAZprfkaunFR",
        "colab_type": "code",
        "outputId": "c388caf9-10cf-462e-f3ba-eccf2c37a4d7",
        "colab": {
          "base_uri": "https://localhost:8080/",
          "height": 119
        }
      },
      "source": [
        "### Validate (2/2).  SHould be empty dataframe\n",
        "Main_file[(Main_file[\"Plant\"]=='5473') & (Main_file[\"Material Code\"]==443) & (Main_file[\"Product Form Name\"]==\"Bulk\") & (Main_file[\"Product Class Name\"]=='I..')].head()"
      ],
      "execution_count": 0,
      "outputs": [
        {
          "output_type": "execute_result",
          "data": {
            "text/html": [
              "<div>\n",
              "<style scoped>\n",
              "    .dataframe tbody tr th:only-of-type {\n",
              "        vertical-align: middle;\n",
              "    }\n",
              "\n",
              "    .dataframe tbody tr th {\n",
              "        vertical-align: top;\n",
              "    }\n",
              "\n",
              "    .dataframe thead th {\n",
              "        text-align: right;\n",
              "    }\n",
              "</style>\n",
              "<table border=\"1\" class=\"dataframe\">\n",
              "  <thead>\n",
              "    <tr style=\"text-align: right;\">\n",
              "      <th></th>\n",
              "      <th>BASE LIST PRICE</th>\n",
              "      <th>Billing document</th>\n",
              "      <th>Business Region</th>\n",
              "      <th>Business Region Name</th>\n",
              "      <th>Cal. year / month</th>\n",
              "      <th>Calendar day</th>\n",
              "      <th>Customer Group</th>\n",
              "      <th>Customer Group Name</th>\n",
              "      <th>DEDUCTIONS</th>\n",
              "      <th>Incoterms</th>\n",
              "      <th>Incoterms Name</th>\n",
              "      <th>Industry Code</th>\n",
              "      <th>Industry Code Name</th>\n",
              "      <th>Material</th>\n",
              "      <th>Material Code</th>\n",
              "      <th>Micromarket</th>\n",
              "      <th>Micromarket Name</th>\n",
              "      <th>OUTBOUND FREIGHT</th>\n",
              "      <th>Parent</th>\n",
              "      <th>Parent Name</th>\n",
              "      <th>Plant</th>\n",
              "      <th>Plant Name</th>\n",
              "      <th>Product Class Name</th>\n",
              "      <th>Product Family</th>\n",
              "      <th>Product Family Name</th>\n",
              "      <th>Product Form</th>\n",
              "      <th>Product Form Name</th>\n",
              "      <th>Product Type</th>\n",
              "      <th>Product Type Name</th>\n",
              "      <th>Sales District</th>\n",
              "      <th>Sales District Name</th>\n",
              "      <th>Sales Group</th>\n",
              "      <th>Sales Group Name</th>\n",
              "      <th>Ship To</th>\n",
              "      <th>Ship To Name</th>\n",
              "      <th>Sold To</th>\n",
              "      <th>Sold To Name</th>\n",
              "      <th>Source Location</th>\n",
              "      <th>Source Location Name</th>\n",
              "      <th>TONS</th>\n",
              "      <th>TPM Average Selling Price</th>\n",
              "      <th>Transportation Mode</th>\n",
              "      <th>Transportation Mode Name</th>\n",
              "    </tr>\n",
              "  </thead>\n",
              "  <tbody>\n",
              "  </tbody>\n",
              "</table>\n",
              "</div>"
            ],
            "text/plain": [
              "Empty DataFrame\n",
              "Columns: [BASE LIST PRICE, Billing document, Business Region, Business Region Name, Cal. year / month, Calendar day, Customer Group, Customer Group Name, DEDUCTIONS, Incoterms, Incoterms Name, Industry Code, Industry Code Name, Material, Material Code, Micromarket, Micromarket Name, OUTBOUND FREIGHT, Parent, Parent Name, Plant, Plant Name, Product Class Name, Product Family, Product Family Name, Product Form, Product Form Name, Product Type, Product Type Name, Sales District, Sales District Name, Sales Group, Sales Group Name, Ship To, Ship To Name, Sold To, Sold To Name, Source Location, Source Location Name, TONS, TPM Average Selling Price, Transportation Mode, Transportation Mode Name]\n",
              "Index: []"
            ]
          },
          "metadata": {
            "tags": []
          },
          "execution_count": 82
        }
      ]
    },
    {
      "cell_type": "code",
      "metadata": {
        "id": "RhtCaMbwekxg",
        "colab_type": "code",
        "outputId": "5fc6ef9e-3658-4f0f-bb0f-c663cdb31ec5",
        "colab": {
          "base_uri": "https://localhost:8080/",
          "height": 439
        }
      },
      "source": [
        "####VALIDATING (1/2).  Should have data\n",
        "Main_file[(Main_file[\"Plant\"]=='5473') & (Main_file[\"Material Code\"]==443) & (Main_file[\"Product Form Name\"]==\"Bulk\") & (Main_file[\"Product Class Name\"]=='1/2')].head()"
      ],
      "execution_count": 0,
      "outputs": [
        {
          "output_type": "execute_result",
          "data": {
            "text/html": [
              "<div>\n",
              "<style scoped>\n",
              "    .dataframe tbody tr th:only-of-type {\n",
              "        vertical-align: middle;\n",
              "    }\n",
              "\n",
              "    .dataframe tbody tr th {\n",
              "        vertical-align: top;\n",
              "    }\n",
              "\n",
              "    .dataframe thead th {\n",
              "        text-align: right;\n",
              "    }\n",
              "</style>\n",
              "<table border=\"1\" class=\"dataframe\">\n",
              "  <thead>\n",
              "    <tr style=\"text-align: right;\">\n",
              "      <th></th>\n",
              "      <th>BASE LIST PRICE</th>\n",
              "      <th>Billing document</th>\n",
              "      <th>Business Region</th>\n",
              "      <th>Business Region Name</th>\n",
              "      <th>Cal. year / month</th>\n",
              "      <th>Calendar day</th>\n",
              "      <th>Customer Group</th>\n",
              "      <th>Customer Group Name</th>\n",
              "      <th>DEDUCTIONS</th>\n",
              "      <th>Incoterms</th>\n",
              "      <th>Incoterms Name</th>\n",
              "      <th>Industry Code</th>\n",
              "      <th>Industry Code Name</th>\n",
              "      <th>Material</th>\n",
              "      <th>Material Code</th>\n",
              "      <th>Micromarket</th>\n",
              "      <th>Micromarket Name</th>\n",
              "      <th>OUTBOUND FREIGHT</th>\n",
              "      <th>Parent</th>\n",
              "      <th>Parent Name</th>\n",
              "      <th>Plant</th>\n",
              "      <th>Plant Name</th>\n",
              "      <th>Product Class Name</th>\n",
              "      <th>Product Family</th>\n",
              "      <th>Product Family Name</th>\n",
              "      <th>Product Form</th>\n",
              "      <th>Product Form Name</th>\n",
              "      <th>Product Type</th>\n",
              "      <th>Product Type Name</th>\n",
              "      <th>Sales District</th>\n",
              "      <th>Sales District Name</th>\n",
              "      <th>Sales Group</th>\n",
              "      <th>Sales Group Name</th>\n",
              "      <th>Ship To</th>\n",
              "      <th>Ship To Name</th>\n",
              "      <th>Sold To</th>\n",
              "      <th>Sold To Name</th>\n",
              "      <th>Source Location</th>\n",
              "      <th>Source Location Name</th>\n",
              "      <th>TONS</th>\n",
              "      <th>TPM Average Selling Price</th>\n",
              "      <th>Transportation Mode</th>\n",
              "      <th>Transportation Mode Name</th>\n",
              "    </tr>\n",
              "  </thead>\n",
              "  <tbody>\n",
              "    <tr>\n",
              "      <th>59086</th>\n",
              "      <td>5479.50</td>\n",
              "      <td>9036772389</td>\n",
              "      <td>#</td>\n",
              "      <td>Not Assigned</td>\n",
              "      <td>11/2019</td>\n",
              "      <td>2019-11-15</td>\n",
              "      <td>1</td>\n",
              "      <td>Free</td>\n",
              "      <td>0.0</td>\n",
              "      <td>FP</td>\n",
              "      <td>Freight Prepaid (delivered)</td>\n",
              "      <td>32732</td>\n",
              "      <td>READY MIXED CONC</td>\n",
              "      <td>PORTLAND, TYPE GU</td>\n",
              "      <td>443</td>\n",
              "      <td>SEND</td>\n",
              "      <td>NORTH DAKOTA SOUTHEAST</td>\n",
              "      <td>-734.49</td>\n",
              "      <td>0000061789</td>\n",
              "      <td>STRATA CORPORATION</td>\n",
              "      <td>5473</td>\n",
              "      <td>VALLEY CITY TERMINAL</td>\n",
              "      <td>1/2</td>\n",
              "      <td>PL</td>\n",
              "      <td>PORTLAND</td>\n",
              "      <td>B</td>\n",
              "      <td>Bulk</td>\n",
              "      <td>1</td>\n",
              "      <td>CEMENT</td>\n",
              "      <td>1521</td>\n",
              "      <td>W ND / NW SD</td>\n",
              "      <td>170</td>\n",
              "      <td>NORTHERN</td>\n",
              "      <td>1608672</td>\n",
              "      <td>STRATA CORPORATION</td>\n",
              "      <td>61789</td>\n",
              "      <td>STRATA CORPORATION</td>\n",
              "      <td>2H01</td>\n",
              "      <td>EXSHAW PLANT</td>\n",
              "      <td>30.219</td>\n",
              "      <td>5479.50</td>\n",
              "      <td>3</td>\n",
              "      <td>Truck</td>\n",
              "    </tr>\n",
              "    <tr>\n",
              "      <th>59087</th>\n",
              "      <td>5492.66</td>\n",
              "      <td>9037073853</td>\n",
              "      <td>#</td>\n",
              "      <td>Not Assigned</td>\n",
              "      <td>11/2019</td>\n",
              "      <td>2019-11-14</td>\n",
              "      <td>1</td>\n",
              "      <td>Free</td>\n",
              "      <td>0.0</td>\n",
              "      <td>FP</td>\n",
              "      <td>Freight Prepaid (delivered)</td>\n",
              "      <td>32732</td>\n",
              "      <td>READY MIXED CONC</td>\n",
              "      <td>PORTLAND, TYPE GU</td>\n",
              "      <td>443</td>\n",
              "      <td>SEND</td>\n",
              "      <td>NORTH DAKOTA SOUTHEAST</td>\n",
              "      <td>-736.25</td>\n",
              "      <td>0000061789</td>\n",
              "      <td>STRATA CORPORATION</td>\n",
              "      <td>5473</td>\n",
              "      <td>VALLEY CITY TERMINAL</td>\n",
              "      <td>1/2</td>\n",
              "      <td>PL</td>\n",
              "      <td>PORTLAND</td>\n",
              "      <td>B</td>\n",
              "      <td>Bulk</td>\n",
              "      <td>1</td>\n",
              "      <td>CEMENT</td>\n",
              "      <td>1521</td>\n",
              "      <td>W ND / NW SD</td>\n",
              "      <td>170</td>\n",
              "      <td>NORTHERN</td>\n",
              "      <td>1608672</td>\n",
              "      <td>STRATA CORPORATION</td>\n",
              "      <td>61789</td>\n",
              "      <td>STRATA CORPORATION</td>\n",
              "      <td>2H01</td>\n",
              "      <td>EXSHAW PLANT</td>\n",
              "      <td>30.291</td>\n",
              "      <td>5492.66</td>\n",
              "      <td>3</td>\n",
              "      <td>Truck</td>\n",
              "    </tr>\n",
              "    <tr>\n",
              "      <th>59088</th>\n",
              "      <td>4351.03</td>\n",
              "      <td>9036772390</td>\n",
              "      <td>#</td>\n",
              "      <td>Not Assigned</td>\n",
              "      <td>11/2019</td>\n",
              "      <td>2019-11-15</td>\n",
              "      <td>1</td>\n",
              "      <td>Free</td>\n",
              "      <td>0.0</td>\n",
              "      <td>FP</td>\n",
              "      <td>Freight Prepaid (delivered)</td>\n",
              "      <td>32732</td>\n",
              "      <td>READY MIXED CONC</td>\n",
              "      <td>PORTLAND, TYPE GU</td>\n",
              "      <td>443</td>\n",
              "      <td>SEND</td>\n",
              "      <td>NORTH DAKOTA SOUTHEAST</td>\n",
              "      <td>-583.22</td>\n",
              "      <td>0000061789</td>\n",
              "      <td>STRATA CORPORATION</td>\n",
              "      <td>5473</td>\n",
              "      <td>VALLEY CITY TERMINAL</td>\n",
              "      <td>1/2</td>\n",
              "      <td>PL</td>\n",
              "      <td>PORTLAND</td>\n",
              "      <td>B</td>\n",
              "      <td>Bulk</td>\n",
              "      <td>1</td>\n",
              "      <td>CEMENT</td>\n",
              "      <td>1521</td>\n",
              "      <td>W ND / NW SD</td>\n",
              "      <td>170</td>\n",
              "      <td>NORTHERN</td>\n",
              "      <td>1608672</td>\n",
              "      <td>STRATA CORPORATION</td>\n",
              "      <td>61789</td>\n",
              "      <td>STRATA CORPORATION</td>\n",
              "      <td>2H01</td>\n",
              "      <td>EXSHAW PLANT</td>\n",
              "      <td>23.995</td>\n",
              "      <td>4351.03</td>\n",
              "      <td>3</td>\n",
              "      <td>Truck</td>\n",
              "    </tr>\n",
              "    <tr>\n",
              "      <th>59089</th>\n",
              "      <td>4331.29</td>\n",
              "      <td>9037073852</td>\n",
              "      <td>#</td>\n",
              "      <td>Not Assigned</td>\n",
              "      <td>11/2019</td>\n",
              "      <td>2019-11-14</td>\n",
              "      <td>1</td>\n",
              "      <td>Free</td>\n",
              "      <td>0.0</td>\n",
              "      <td>FP</td>\n",
              "      <td>Freight Prepaid (delivered)</td>\n",
              "      <td>32732</td>\n",
              "      <td>READY MIXED CONC</td>\n",
              "      <td>PORTLAND, TYPE GU</td>\n",
              "      <td>443</td>\n",
              "      <td>SEND</td>\n",
              "      <td>NORTH DAKOTA SOUTHEAST</td>\n",
              "      <td>-580.58</td>\n",
              "      <td>0000061789</td>\n",
              "      <td>STRATA CORPORATION</td>\n",
              "      <td>5473</td>\n",
              "      <td>VALLEY CITY TERMINAL</td>\n",
              "      <td>1/2</td>\n",
              "      <td>PL</td>\n",
              "      <td>PORTLAND</td>\n",
              "      <td>B</td>\n",
              "      <td>Bulk</td>\n",
              "      <td>1</td>\n",
              "      <td>CEMENT</td>\n",
              "      <td>1521</td>\n",
              "      <td>W ND / NW SD</td>\n",
              "      <td>170</td>\n",
              "      <td>NORTHERN</td>\n",
              "      <td>1608672</td>\n",
              "      <td>STRATA CORPORATION</td>\n",
              "      <td>61789</td>\n",
              "      <td>STRATA CORPORATION</td>\n",
              "      <td>2H01</td>\n",
              "      <td>EXSHAW PLANT</td>\n",
              "      <td>23.887</td>\n",
              "      <td>4331.29</td>\n",
              "      <td>3</td>\n",
              "      <td>Truck</td>\n",
              "    </tr>\n",
              "    <tr>\n",
              "      <th>59090</th>\n",
              "      <td>5538.72</td>\n",
              "      <td>9037056431</td>\n",
              "      <td>#</td>\n",
              "      <td>Not Assigned</td>\n",
              "      <td>11/2019</td>\n",
              "      <td>2019-11-13</td>\n",
              "      <td>1</td>\n",
              "      <td>Free</td>\n",
              "      <td>0.0</td>\n",
              "      <td>FP</td>\n",
              "      <td>Freight Prepaid (delivered)</td>\n",
              "      <td>32732</td>\n",
              "      <td>READY MIXED CONC</td>\n",
              "      <td>PORTLAND, TYPE GU</td>\n",
              "      <td>443</td>\n",
              "      <td>SEND</td>\n",
              "      <td>NORTH DAKOTA SOUTHEAST</td>\n",
              "      <td>-742.42</td>\n",
              "      <td>0000061789</td>\n",
              "      <td>STRATA CORPORATION</td>\n",
              "      <td>5473</td>\n",
              "      <td>VALLEY CITY TERMINAL</td>\n",
              "      <td>1/2</td>\n",
              "      <td>PL</td>\n",
              "      <td>PORTLAND</td>\n",
              "      <td>B</td>\n",
              "      <td>Bulk</td>\n",
              "      <td>1</td>\n",
              "      <td>CEMENT</td>\n",
              "      <td>1521</td>\n",
              "      <td>W ND / NW SD</td>\n",
              "      <td>170</td>\n",
              "      <td>NORTHERN</td>\n",
              "      <td>1608672</td>\n",
              "      <td>STRATA CORPORATION</td>\n",
              "      <td>61789</td>\n",
              "      <td>STRATA CORPORATION</td>\n",
              "      <td>2H01</td>\n",
              "      <td>EXSHAW PLANT</td>\n",
              "      <td>30.545</td>\n",
              "      <td>5538.72</td>\n",
              "      <td>3</td>\n",
              "      <td>Truck</td>\n",
              "    </tr>\n",
              "  </tbody>\n",
              "</table>\n",
              "</div>"
            ],
            "text/plain": [
              "       BASE LIST PRICE  ...  Transportation Mode Name\n",
              "59086          5479.50  ...                     Truck\n",
              "59087          5492.66  ...                     Truck\n",
              "59088          4351.03  ...                     Truck\n",
              "59089          4331.29  ...                     Truck\n",
              "59090          5538.72  ...                     Truck\n",
              "\n",
              "[5 rows x 43 columns]"
            ]
          },
          "metadata": {
            "tags": []
          },
          "execution_count": 83
        }
      ]
    },
    {
      "cell_type": "code",
      "metadata": {
        "id": "18XQgJqMemGs",
        "colab_type": "code",
        "outputId": "33a4e491-6972-4cf3-c019-390b01a07efb",
        "colab": {
          "base_uri": "https://localhost:8080/",
          "height": 529
        }
      },
      "source": [
        "###### CHANGE PLANTS ONLY\n",
        "Main_file[\"Plant\"][(Main_file[\"Plant\"]=='5473') & (Main_file[\"Material Code\"]==443) & (Main_file[\"Product Form Name\"]==\"Bulk\") & (Main_file[\"Product Class Name\"]=='1/2')]='5475'\n",
        "Main_file[\"Plant\"][(Main_file[\"Plant\"]=='5469') & (Main_file[\"Material Code\"]==443) & (Main_file[\"Product Form Name\"]==\"Bulk\") & (Main_file[\"Product Class Name\"]=='1/2')]='5476'\n",
        "Main_file[\"Plant\"][(Main_file[\"Plant\"]=='5487') & (Main_file[\"Material Code\"]==5221) & (Main_file[\"Product Form Name\"]==\"Bulk\") & (Main_file[\"Product Class Name\"]=='OW.')]='7535'\n",
        "Main_file[\"Plant\"][(Main_file[\"Plant\"]=='5487') & (Main_file[\"Material Code\"]==5219) & (Main_file[\"Product Form Name\"]==\"Bulk\") & (Main_file[\"Product Class Name\"]=='OW.')]='7535'\n",
        "Main_file[\"Plant\"][(Main_file[\"Plant\"]=='9269') & (Main_file[\"Material Code\"]==1615) & (Main_file[\"Product Form Name\"]==\"Bulk\") & (Main_file[\"Product Class Name\"]=='1/2')]='5274'\n",
        "Main_file[\"Plant\"][(Main_file[\"Plant\"]=='5496') & (Main_file[\"Material Code\"]==9) & (Main_file[\"Product Form Name\"]==\"Bulk\") & (Main_file[\"Product Class Name\"]=='1/2')]='5598'\n",
        "\n"
      ],
      "execution_count": 0,
      "outputs": [
        {
          "output_type": "stream",
          "text": [
            "/usr/local/lib/python3.6/dist-packages/ipykernel_launcher.py:1: SettingWithCopyWarning: \n",
            "A value is trying to be set on a copy of a slice from a DataFrame\n",
            "\n",
            "See the caveats in the documentation: http://pandas.pydata.org/pandas-docs/stable/user_guide/indexing.html#returning-a-view-versus-a-copy\n",
            "  \"\"\"Entry point for launching an IPython kernel.\n",
            "/usr/local/lib/python3.6/dist-packages/ipykernel_launcher.py:2: SettingWithCopyWarning: \n",
            "A value is trying to be set on a copy of a slice from a DataFrame\n",
            "\n",
            "See the caveats in the documentation: http://pandas.pydata.org/pandas-docs/stable/user_guide/indexing.html#returning-a-view-versus-a-copy\n",
            "  \n",
            "/usr/local/lib/python3.6/dist-packages/ipykernel_launcher.py:3: SettingWithCopyWarning: \n",
            "A value is trying to be set on a copy of a slice from a DataFrame\n",
            "\n",
            "See the caveats in the documentation: http://pandas.pydata.org/pandas-docs/stable/user_guide/indexing.html#returning-a-view-versus-a-copy\n",
            "  This is separate from the ipykernel package so we can avoid doing imports until\n",
            "/usr/local/lib/python3.6/dist-packages/ipykernel_launcher.py:4: SettingWithCopyWarning: \n",
            "A value is trying to be set on a copy of a slice from a DataFrame\n",
            "\n",
            "See the caveats in the documentation: http://pandas.pydata.org/pandas-docs/stable/user_guide/indexing.html#returning-a-view-versus-a-copy\n",
            "  after removing the cwd from sys.path.\n",
            "/usr/local/lib/python3.6/dist-packages/ipykernel_launcher.py:5: SettingWithCopyWarning: \n",
            "A value is trying to be set on a copy of a slice from a DataFrame\n",
            "\n",
            "See the caveats in the documentation: http://pandas.pydata.org/pandas-docs/stable/user_guide/indexing.html#returning-a-view-versus-a-copy\n",
            "  \"\"\"\n",
            "/usr/local/lib/python3.6/dist-packages/ipykernel_launcher.py:6: SettingWithCopyWarning: \n",
            "A value is trying to be set on a copy of a slice from a DataFrame\n",
            "\n",
            "See the caveats in the documentation: http://pandas.pydata.org/pandas-docs/stable/user_guide/indexing.html#returning-a-view-versus-a-copy\n",
            "  \n"
          ],
          "name": "stderr"
        }
      ]
    },
    {
      "cell_type": "code",
      "metadata": {
        "id": "7AZD_JESvIqS",
        "colab_type": "code",
        "outputId": "87e5b05b-c116-4730-ff80-cc0ba6ad0bf3",
        "colab": {
          "base_uri": "https://localhost:8080/",
          "height": 119
        }
      },
      "source": [
        "###Validating (2/2).  Should be empty dataframe\n",
        "Main_file[(Main_file[\"Plant\"]=='5473') & (Main_file[\"Material Code\"]==443) & (Main_file[\"Product Form Name\"]==\"Bulk\") & (Main_file[\"Product Class Name\"]=='1/2')].head()"
      ],
      "execution_count": 0,
      "outputs": [
        {
          "output_type": "execute_result",
          "data": {
            "text/html": [
              "<div>\n",
              "<style scoped>\n",
              "    .dataframe tbody tr th:only-of-type {\n",
              "        vertical-align: middle;\n",
              "    }\n",
              "\n",
              "    .dataframe tbody tr th {\n",
              "        vertical-align: top;\n",
              "    }\n",
              "\n",
              "    .dataframe thead th {\n",
              "        text-align: right;\n",
              "    }\n",
              "</style>\n",
              "<table border=\"1\" class=\"dataframe\">\n",
              "  <thead>\n",
              "    <tr style=\"text-align: right;\">\n",
              "      <th></th>\n",
              "      <th>BASE LIST PRICE</th>\n",
              "      <th>Billing document</th>\n",
              "      <th>Business Region</th>\n",
              "      <th>Business Region Name</th>\n",
              "      <th>Cal. year / month</th>\n",
              "      <th>Calendar day</th>\n",
              "      <th>Customer Group</th>\n",
              "      <th>Customer Group Name</th>\n",
              "      <th>DEDUCTIONS</th>\n",
              "      <th>Incoterms</th>\n",
              "      <th>Incoterms Name</th>\n",
              "      <th>Industry Code</th>\n",
              "      <th>Industry Code Name</th>\n",
              "      <th>Material</th>\n",
              "      <th>Material Code</th>\n",
              "      <th>Micromarket</th>\n",
              "      <th>Micromarket Name</th>\n",
              "      <th>OUTBOUND FREIGHT</th>\n",
              "      <th>Parent</th>\n",
              "      <th>Parent Name</th>\n",
              "      <th>Plant</th>\n",
              "      <th>Plant Name</th>\n",
              "      <th>Product Class Name</th>\n",
              "      <th>Product Family</th>\n",
              "      <th>Product Family Name</th>\n",
              "      <th>Product Form</th>\n",
              "      <th>Product Form Name</th>\n",
              "      <th>Product Type</th>\n",
              "      <th>Product Type Name</th>\n",
              "      <th>Sales District</th>\n",
              "      <th>Sales District Name</th>\n",
              "      <th>Sales Group</th>\n",
              "      <th>Sales Group Name</th>\n",
              "      <th>Ship To</th>\n",
              "      <th>Ship To Name</th>\n",
              "      <th>Sold To</th>\n",
              "      <th>Sold To Name</th>\n",
              "      <th>Source Location</th>\n",
              "      <th>Source Location Name</th>\n",
              "      <th>TONS</th>\n",
              "      <th>TPM Average Selling Price</th>\n",
              "      <th>Transportation Mode</th>\n",
              "      <th>Transportation Mode Name</th>\n",
              "    </tr>\n",
              "  </thead>\n",
              "  <tbody>\n",
              "  </tbody>\n",
              "</table>\n",
              "</div>"
            ],
            "text/plain": [
              "Empty DataFrame\n",
              "Columns: [BASE LIST PRICE, Billing document, Business Region, Business Region Name, Cal. year / month, Calendar day, Customer Group, Customer Group Name, DEDUCTIONS, Incoterms, Incoterms Name, Industry Code, Industry Code Name, Material, Material Code, Micromarket, Micromarket Name, OUTBOUND FREIGHT, Parent, Parent Name, Plant, Plant Name, Product Class Name, Product Family, Product Family Name, Product Form, Product Form Name, Product Type, Product Type Name, Sales District, Sales District Name, Sales Group, Sales Group Name, Ship To, Ship To Name, Sold To, Sold To Name, Source Location, Source Location Name, TONS, TPM Average Selling Price, Transportation Mode, Transportation Mode Name]\n",
              "Index: []"
            ]
          },
          "metadata": {
            "tags": []
          },
          "execution_count": 85
        }
      ]
    },
    {
      "cell_type": "code",
      "metadata": {
        "id": "xXPI8g40nnAe",
        "colab_type": "code",
        "outputId": "7b130f32-846a-412a-c4d0-7a9d5a4f6a34",
        "colab": {
          "base_uri": "https://localhost:8080/",
          "height": 1000
        }
      },
      "source": [
        "##### EXCLUDES SALES OFFICE 9000 UNLESS IT MEETS CERTAIN CRITERIA\n",
        "Main_file[\"Include\"]=1\n",
        "Main_file[\"Include\"][Main_file[\"Sales Group Name\"].isin(['SOUTHERN TRADE','MIDWEST TRADE','TX/OK TRADE','MOUNTAIN TRADE'])]=0\n",
        "Main_file[\"Include\"][(Main_file[\"Plant\"]=='5417') & (Main_file[\"Material Code\"]==5153) & (Main_file[\"Product Form Name\"]==\"PACKAGED\") & (Main_file[\"Product Class Name\"]=='I..')& Main_file[\"Sold To\"]==52521]=1\n",
        "Main_file[\"Include\"][(Main_file[\"Plant\"]=='5417') & (Main_file[\"Material Code\"]==5165) & (Main_file[\"Product Form Name\"]==\"PACKAGED\") & (Main_file[\"Product Class Name\"]=='III')& Main_file[\"Sold To\"]==52521]=1\n",
        "Main_file[\"Include\"][(Main_file[\"Plant\"]=='5417') & (Main_file[\"Material Code\"]==5199) & (Main_file[\"Product Form Name\"]==\"PACKAGED\") & (Main_file[\"Product Class Name\"]=='N..')& Main_file[\"Sold To\"]==52521]=1\n",
        "Main_file[\"Include\"][(Main_file[\"Plant\"]=='5417') & (Main_file[\"Material Code\"]==5201) & (Main_file[\"Product Form Name\"]==\"PACKAGED\") & (Main_file[\"Product Class Name\"]=='S..')& Main_file[\"Sold To\"]==52521]=1\n",
        "Main_file[\"Include\"][(Main_file[\"Plant\"]=='5417') & (Main_file[\"Material Code\"]==5153) & (Main_file[\"Product Form Name\"]==\"PACKAGED\") & (Main_file[\"Product Class Name\"]=='I..')& Main_file[\"Sold To\"]=='0000052521']=1\n",
        "Main_file[\"Include\"][(Main_file[\"Plant\"]=='5417') & (Main_file[\"Material Code\"]==5165) & (Main_file[\"Product Form Name\"]==\"PACKAGED\") & (Main_file[\"Product Class Name\"]=='III')& Main_file[\"Sold To\"]=='0000052521']=1\n",
        "Main_file[\"Include\"][(Main_file[\"Plant\"]=='5417') & (Main_file[\"Material Code\"]==5199) & (Main_file[\"Product Form Name\"]==\"PACKAGED\") & (Main_file[\"Product Class Name\"]=='N..')& Main_file[\"Sold To\"]=='0000052521']=1\n",
        "Main_file[\"Include\"][(Main_file[\"Plant\"]=='5417') & (Main_file[\"Material Code\"]==5201) & (Main_file[\"Product Form Name\"]==\"PACKAGED\") & (Main_file[\"Product Class Name\"]=='S..')& Main_file[\"Sold To\"]=='0000052521']=1\n",
        "Main_file[\"Include\"][(Main_file[\"Plant\"]=='7540') & (Main_file[\"Material Code\"]==4831) & (Main_file[\"Product Form Name\"]==\"Bulk\") & (Main_file[\"Product Class Name\"]=='120')& Main_file[\"Sold To\"]==62414]=1\n",
        "Main_file[\"Include\"][(Main_file[\"Plant\"]=='7540') & (Main_file[\"Material Code\"]==4921) & (Main_file[\"Product Form Name\"]==\"Bulk\") & (Main_file[\"Product Class Name\"]=='100')& Main_file[\"Sold To\"]==62414]=1\n",
        "Main_file[\"Include\"][(Main_file[\"Plant\"]=='7540') & (Main_file[\"Material Code\"]==4831) & (Main_file[\"Product Form Name\"]==\"Bulk\") & (Main_file[\"Product Class Name\"]=='120')& Main_file[\"Sold To\"]=='0000062414']=1\n",
        "Main_file[\"Include\"][(Main_file[\"Plant\"]=='7540') & (Main_file[\"Material Code\"]==4921) & (Main_file[\"Product Form Name\"]==\"Bulk\") & (Main_file[\"Product Class Name\"]=='100')& Main_file[\"Sold To\"]=='0000062414']=1"
      ],
      "execution_count": 0,
      "outputs": [
        {
          "output_type": "stream",
          "text": [
            "/usr/local/lib/python3.6/dist-packages/ipykernel_launcher.py:2: SettingWithCopyWarning: \n",
            "A value is trying to be set on a copy of a slice from a DataFrame\n",
            "\n",
            "See the caveats in the documentation: http://pandas.pydata.org/pandas-docs/stable/user_guide/indexing.html#returning-a-view-versus-a-copy\n",
            "  \n",
            "/usr/local/lib/python3.6/dist-packages/ipykernel_launcher.py:3: SettingWithCopyWarning: \n",
            "A value is trying to be set on a copy of a slice from a DataFrame\n",
            "\n",
            "See the caveats in the documentation: http://pandas.pydata.org/pandas-docs/stable/user_guide/indexing.html#returning-a-view-versus-a-copy\n",
            "  This is separate from the ipykernel package so we can avoid doing imports until\n",
            "/usr/local/lib/python3.6/dist-packages/ipykernel_launcher.py:4: SettingWithCopyWarning: \n",
            "A value is trying to be set on a copy of a slice from a DataFrame\n",
            "\n",
            "See the caveats in the documentation: http://pandas.pydata.org/pandas-docs/stable/user_guide/indexing.html#returning-a-view-versus-a-copy\n",
            "  after removing the cwd from sys.path.\n",
            "/usr/local/lib/python3.6/dist-packages/ipykernel_launcher.py:5: SettingWithCopyWarning: \n",
            "A value is trying to be set on a copy of a slice from a DataFrame\n",
            "\n",
            "See the caveats in the documentation: http://pandas.pydata.org/pandas-docs/stable/user_guide/indexing.html#returning-a-view-versus-a-copy\n",
            "  \"\"\"\n",
            "/usr/local/lib/python3.6/dist-packages/ipykernel_launcher.py:6: SettingWithCopyWarning: \n",
            "A value is trying to be set on a copy of a slice from a DataFrame\n",
            "\n",
            "See the caveats in the documentation: http://pandas.pydata.org/pandas-docs/stable/user_guide/indexing.html#returning-a-view-versus-a-copy\n",
            "  \n",
            "/usr/local/lib/python3.6/dist-packages/pandas/core/ops/__init__.py:1115: FutureWarning: elementwise comparison failed; returning scalar instead, but in the future will perform elementwise comparison\n",
            "  result = method(y)\n",
            "/usr/local/lib/python3.6/dist-packages/ipykernel_launcher.py:7: SettingWithCopyWarning: \n",
            "A value is trying to be set on a copy of a slice from a DataFrame\n",
            "\n",
            "See the caveats in the documentation: http://pandas.pydata.org/pandas-docs/stable/user_guide/indexing.html#returning-a-view-versus-a-copy\n",
            "  import sys\n",
            "/usr/local/lib/python3.6/dist-packages/ipykernel_launcher.py:8: SettingWithCopyWarning: \n",
            "A value is trying to be set on a copy of a slice from a DataFrame\n",
            "\n",
            "See the caveats in the documentation: http://pandas.pydata.org/pandas-docs/stable/user_guide/indexing.html#returning-a-view-versus-a-copy\n",
            "  \n",
            "/usr/local/lib/python3.6/dist-packages/ipykernel_launcher.py:9: SettingWithCopyWarning: \n",
            "A value is trying to be set on a copy of a slice from a DataFrame\n",
            "\n",
            "See the caveats in the documentation: http://pandas.pydata.org/pandas-docs/stable/user_guide/indexing.html#returning-a-view-versus-a-copy\n",
            "  if __name__ == '__main__':\n",
            "/usr/local/lib/python3.6/dist-packages/ipykernel_launcher.py:10: SettingWithCopyWarning: \n",
            "A value is trying to be set on a copy of a slice from a DataFrame\n",
            "\n",
            "See the caveats in the documentation: http://pandas.pydata.org/pandas-docs/stable/user_guide/indexing.html#returning-a-view-versus-a-copy\n",
            "  # Remove the CWD from sys.path while we load stuff.\n",
            "/usr/local/lib/python3.6/dist-packages/ipykernel_launcher.py:11: SettingWithCopyWarning: \n",
            "A value is trying to be set on a copy of a slice from a DataFrame\n",
            "\n",
            "See the caveats in the documentation: http://pandas.pydata.org/pandas-docs/stable/user_guide/indexing.html#returning-a-view-versus-a-copy\n",
            "  # This is added back by InteractiveShellApp.init_path()\n",
            "/usr/local/lib/python3.6/dist-packages/ipykernel_launcher.py:12: SettingWithCopyWarning: \n",
            "A value is trying to be set on a copy of a slice from a DataFrame\n",
            "\n",
            "See the caveats in the documentation: http://pandas.pydata.org/pandas-docs/stable/user_guide/indexing.html#returning-a-view-versus-a-copy\n",
            "  if sys.path[0] == '':\n",
            "/usr/local/lib/python3.6/dist-packages/ipykernel_launcher.py:13: SettingWithCopyWarning: \n",
            "A value is trying to be set on a copy of a slice from a DataFrame\n",
            "\n",
            "See the caveats in the documentation: http://pandas.pydata.org/pandas-docs/stable/user_guide/indexing.html#returning-a-view-versus-a-copy\n",
            "  del sys.path[0]\n",
            "/usr/local/lib/python3.6/dist-packages/ipykernel_launcher.py:14: SettingWithCopyWarning: \n",
            "A value is trying to be set on a copy of a slice from a DataFrame\n",
            "\n",
            "See the caveats in the documentation: http://pandas.pydata.org/pandas-docs/stable/user_guide/indexing.html#returning-a-view-versus-a-copy\n",
            "  \n"
          ],
          "name": "stderr"
        }
      ]
    },
    {
      "cell_type": "code",
      "metadata": {
        "id": "pbuiVOfM3dUG",
        "colab_type": "code",
        "outputId": "96fdde60-b75c-401a-db90-45bdcf66c40e",
        "colab": {
          "base_uri": "https://localhost:8080/",
          "height": 34
        }
      },
      "source": [
        "#### The Number of Trade Sales that we are Including.  WE are only including only ones that meet the criteria above\n",
        "Main_file[\"Include\"][Main_file[\"Sales Group Name\"].isin(['SOUTHERN TRADE','MIDWEST TRADE','TX/OK TRADE','MOUNTAIN TRADE'])].sum()"
      ],
      "execution_count": 0,
      "outputs": [
        {
          "output_type": "execute_result",
          "data": {
            "text/plain": [
              "0"
            ]
          },
          "metadata": {
            "tags": []
          },
          "execution_count": 96
        }
      ]
    },
    {
      "cell_type": "code",
      "metadata": {
        "id": "6wYNDQJF41J8",
        "colab_type": "code",
        "outputId": "1a723f51-e25b-490a-99e4-821489a49db8",
        "colab": {
          "base_uri": "https://localhost:8080/",
          "height": 34
        }
      },
      "source": [
        "#####Proportion of data we are excluding that are trade sales\n",
        "Main_file[\"Include\"][Main_file[\"Include\"]==0].count()/Main_file[\"Include\"][Main_file[\"Include\"]==1].count()"
      ],
      "execution_count": 0,
      "outputs": [
        {
          "output_type": "execute_result",
          "data": {
            "text/plain": [
              "0.004169726763348589"
            ]
          },
          "metadata": {
            "tags": []
          },
          "execution_count": 88
        }
      ]
    },
    {
      "cell_type": "code",
      "metadata": {
        "id": "M6IbRLLGp-uJ",
        "colab_type": "code",
        "colab": {}
      },
      "source": [
        "#####SELECT ONLY DATA WITH 1'S\n",
        "Main_file=Main_file[Main_file[\"Include\"]==1]\n"
      ],
      "execution_count": 0,
      "outputs": []
    },
    {
      "cell_type": "code",
      "metadata": {
        "id": "gP9sgnO_cpj1",
        "colab_type": "code",
        "outputId": "095fa27f-b660-46cc-de41-a165add213d4",
        "colab": {
          "base_uri": "https://localhost:8080/",
          "height": 34
        }
      },
      "source": [
        "print(Main_file[\"TONS\"][pd.to_datetime(Main_file['Calendar day']).dt.year==2016].sum(),\n",
        "Main_file[\"TONS\"][pd.to_datetime(Main_file['Calendar day']).dt.year==2017].sum(),\n",
        "Main_file[\"TONS\"][pd.to_datetime(Main_file['Calendar day']).dt.year==2018].sum(),\n",
        "Main_file[\"TONS\"][pd.to_datetime(Main_file['Calendar day']).dt.year==2019].sum())\n"
      ],
      "execution_count": 0,
      "outputs": [
        {
          "output_type": "stream",
          "text": [
            "14912766.954000005 15217472.654000005 15532019.464000002 15803883.155\n"
          ],
          "name": "stdout"
        }
      ]
    },
    {
      "cell_type": "code",
      "metadata": {
        "id": "B5zRvTNA4uI8",
        "colab_type": "code",
        "colab": {}
      },
      "source": [
        "######WRITE OUT THE FILE \n",
        "os.chdir(dir_output)\n",
        "Main_file.to_csv(\"Master_file.csv\")"
      ],
      "execution_count": 0,
      "outputs": []
    },
    {
      "cell_type": "code",
      "metadata": {
        "id": "Z9FkV-F6lOqe",
        "colab_type": "code",
        "colab": {}
      },
      "source": [
        "##########################################################################################################################################################################################################################################################\n",
        "##########################################################################################################################################################################################################################################################\n",
        "##########################################################################################################################################################################################################################################################\n",
        "##########################################################################################################################################################################################################################################################\n",
        "##########################################################################################################################################################################################################################################################\n",
        "##################    \n",
        "\n",
        "\n",
        "#START HERE IF DATA ALREADY GENERATED\n"
      ],
      "execution_count": 0,
      "outputs": []
    },
    {
      "cell_type": "code",
      "metadata": {
        "id": "97dPwAnL9wMy",
        "colab_type": "code",
        "outputId": "051ae5bb-cc25-47df-ba35-5af74747a72b",
        "colab": {
          "base_uri": "https://localhost:8080/",
          "height": 51
        }
      },
      "source": [
        "###READ IN MASTER FILE\n",
        "\n",
        "os.chdir(dir_output)\n",
        "Master_files=pd.read_csv(\"Master_file.csv\",parse_dates=True)"
      ],
      "execution_count": 53,
      "outputs": [
        {
          "output_type": "stream",
          "text": [
            "/usr/local/lib/python3.6/dist-packages/IPython/core/interactiveshell.py:2718: DtypeWarning: Columns (19,21,34,36,38,42) have mixed types. Specify dtype option on import or set low_memory=False.\n",
            "  interactivity=interactivity, compiler=compiler, result=result)\n"
          ],
          "name": "stderr"
        }
      ]
    },
    {
      "cell_type": "code",
      "metadata": {
        "id": "pt-smikF-10g",
        "colab_type": "code",
        "outputId": "b487c004-ef48-41ad-8125-72076dd5e6d0",
        "colab": {
          "base_uri": "https://localhost:8080/",
          "height": 256
        }
      },
      "source": [
        "Master_files.columns"
      ],
      "execution_count": 54,
      "outputs": [
        {
          "output_type": "execute_result",
          "data": {
            "text/plain": [
              "Index(['Unnamed: 0', 'BASE LIST PRICE', 'Billing document', 'Business Region',\n",
              "       'Business Region Name', 'Cal. year / month', 'Calendar day',\n",
              "       'Customer Group', 'Customer Group Name', 'DEDUCTIONS', 'Incoterms',\n",
              "       'Incoterms Name', 'Industry Code', 'Industry Code Name', 'Material',\n",
              "       'Material Code', 'Micromarket', 'Micromarket Name', 'OUTBOUND FREIGHT',\n",
              "       'Parent', 'Parent Name', 'Plant', 'Plant Name', 'Product Class Name',\n",
              "       'Product Family', 'Product Family Name', 'Product Form',\n",
              "       'Product Form Name', 'Product Type', 'Product Type Name',\n",
              "       'Sales District', 'Sales District Name', 'Sales Group',\n",
              "       'Sales Group Name', 'Ship To', 'Ship To Name', 'Sold To',\n",
              "       'Sold To Name', 'Source Location', 'Source Location Name', 'TONS',\n",
              "       'TPM Average Selling Price', 'Transportation Mode',\n",
              "       'Transportation Mode Name', 'Include'],\n",
              "      dtype='object')"
            ]
          },
          "metadata": {
            "tags": []
          },
          "execution_count": 54
        }
      ]
    },
    {
      "cell_type": "code",
      "metadata": {
        "id": "fJXRVBzkuz-F",
        "colab_type": "code",
        "outputId": "199c56a9-90bd-451a-932c-0d63228cb69a",
        "colab": {
          "base_uri": "https://localhost:8080/",
          "height": 51
        }
      },
      "source": [
        "Master_files[\"Sold To\"].str.strip().unique()"
      ],
      "execution_count": 55,
      "outputs": [
        {
          "output_type": "execute_result",
          "data": {
            "text/plain": [
              "array(['52274', '17101', '90495', ..., '3133', '92642', '92741'],\n",
              "      dtype=object)"
            ]
          },
          "metadata": {
            "tags": []
          },
          "execution_count": 55
        }
      ]
    },
    {
      "cell_type": "code",
      "metadata": {
        "id": "FiM5yd-G-9wq",
        "colab_type": "code",
        "outputId": "1bef9a19-c672-4645-cf8b-253d6995862e",
        "colab": {
          "base_uri": "https://localhost:8080/",
          "height": 85
        }
      },
      "source": [
        "########Take only company codes that are not projects#############\n",
        "industry_code_projects=['11111', '233310', '233314', '23411','234113', '238118', '238119', '238991', '238992', '238993', '238994', '238999', '327310', '327392']\n",
        "\n",
        "#industry_code_no_projects=['0001','120','212299','213111','235610','238990','32732','327320','327331','327332','327333','32739',\n",
        "#'327390','327395','332619','42132','423320','444190','999901','999902']\n",
        "industry_code_no_projects_num=[32732,\t327333,\t32739,\t423320,\t327332,\t235610,\t238993,\t327392,\t238118,\t444190,\t327320,\t327331,\t120,\t238990,\t233310,\t327390,\t212299,\n",
        "                           213111,\t238991,\t332619,\t238994,\t238119,\t42132,\t238999,\t327395,\t238992,\t327310,\t444191,\t235310,\t327391]\n",
        "\n",
        "\n",
        "\n",
        "Master_files=Master_files[Master_files[\"Industry Code\"].isin(industry_code_no_projects_num)]\n",
        "Master_files[\"Industry Code\"].unique()"
      ],
      "execution_count": 56,
      "outputs": [
        {
          "output_type": "execute_result",
          "data": {
            "text/plain": [
              "array([ 32732, 238993, 327331, 327333, 423320, 327332, 327320, 327390,\n",
              "       238118, 238994, 327392, 233310, 213111, 238990,    120,  32739,\n",
              "       235610, 444190, 238119, 238991,  42132, 238999, 332619, 238992,\n",
              "       212299, 327391, 327395, 444191, 235310, 327310])"
            ]
          },
          "metadata": {
            "tags": []
          },
          "execution_count": 56
        }
      ]
    },
    {
      "cell_type": "code",
      "metadata": {
        "id": "HmqTDqH1k75O",
        "colab_type": "code",
        "colab": {
          "base_uri": "https://localhost:8080/",
          "height": 221
        },
        "outputId": "812146f7-19d7-4966-8059-7af129ee1692"
      },
      "source": [
        "pd.to_datetime(Master_files[\"Calendar day\"]).apply(lambda x: x.weekday())"
      ],
      "execution_count": 57,
      "outputs": [
        {
          "output_type": "execute_result",
          "data": {
            "text/plain": [
              "0          2\n",
              "1          3\n",
              "2          2\n",
              "3          3\n",
              "4          4\n",
              "          ..\n",
              "2626546    4\n",
              "2626547    4\n",
              "2626548    3\n",
              "2626549    4\n",
              "2626550    2\n",
              "Name: Calendar day, Length: 2427087, dtype: int64"
            ]
          },
          "metadata": {
            "tags": []
          },
          "execution_count": 57
        }
      ]
    },
    {
      "cell_type": "code",
      "metadata": {
        "id": "TpjolUNg-I8K",
        "colab_type": "code",
        "colab": {}
      },
      "source": [
        "##CREATE THE WEEK COLUMN.  THIS ROUNDS DATE TO THE NEXT WEEKDAY THAT YOU CHOOSE. 6=SUNDAY. WE WILL ROUND TO THE NEAREST FUTURE SUNDAY \n",
        "def next_weekday(d, weekday): ###'d' is the date from dataframe.  \n",
        "    days_ahead = weekday - d.weekday() #'weekday' is the day of the week you want to move ahead (0=Monday, 1=Tuesday, 6=Sunday)\n",
        "    if days_ahead <= 0: # Target day already happened this week\n",
        "        days_ahead += 7\n",
        "    return d + td(days_ahead)\n"
      ],
      "execution_count": 0,
      "outputs": []
    },
    {
      "cell_type": "code",
      "metadata": {
        "id": "S0tVAKUO-sCO",
        "colab_type": "code",
        "outputId": "c9ed9fd8-4b04-4f7d-defd-2c32f783dbb5",
        "colab": {
          "base_uri": "https://localhost:8080/",
          "height": 119
        }
      },
      "source": [
        "####GROUPS THE ACTUAL VOLUMES BY 5 GROUPBY CLASSES.  CREATE THE 'WEEK' DATASET\n",
        "\n",
        "Master_files[\"Week\"]=pd.to_datetime(Master_files[\"Calendar day\"]).apply(lambda x: next_weekday(x,6)) \n",
        "Master_files_week=Master_files[[\"Plant\",\"Product Class Name\",\"Product Form\",\"Week\",\"TONS\"]]\n",
        "Master_files_week=Master_files_week.groupby(by=[\"Plant\",\"Product Class Name\",\"Product Form\",\"Week\"]).sum().reset_index()\n",
        "Master_files_week=Master_files_week[Master_files_week['TONS']>0]\n",
        "Master_files_week['Week']=Master_files_week['Week'].map(str).str.strip().str[0:10]\n",
        "Master_files_week[\"Week Key\"]=Master_files_week['Plant'].map(str)+Master_files_week['Product Class Name'].map(str)+Master_files_week['Product Form'].map(str)+Master_files_week['Week'].map(str) ##CREATE WEEK KEY\n",
        "Master_files_week[\"Week Key\"].head()\n"
      ],
      "execution_count": 59,
      "outputs": [
        {
          "output_type": "execute_result",
          "data": {
            "text/plain": [
              "0    20581/2B2016-01-10\n",
              "1    20581/2B2016-01-17\n",
              "2    20581/2B2016-01-24\n",
              "3    20581/2B2016-01-31\n",
              "4    20581/2B2016-02-07\n",
              "Name: Week Key, dtype: object"
            ]
          },
          "metadata": {
            "tags": []
          },
          "execution_count": 59
        }
      ]
    },
    {
      "cell_type": "code",
      "metadata": {
        "id": "zDkOsvND_ahc",
        "colab_type": "code",
        "outputId": "82e83e00-bad8-46d7-8aee-5ac326ec1eac",
        "colab": {
          "base_uri": "https://localhost:8080/",
          "height": 377
        }
      },
      "source": [
        "# MONTH DATASET\n",
        "Master_files_month=Master_files\n",
        "Master_files_month[\"Month\"]=pd.to_datetime(Master_files_month[\"Calendar day\"]).apply(lambda x: x.replace(day=1))\n",
        "\n",
        "Master_files_month[\"Plant\"]=Master_files_month[\"Plant\"].map(str).str.strip()\n",
        "Master_files_month['Product Class Name']=Master_files_month['Product Class Name'].str.strip()\n",
        "Master_files_month['Product Form']=Master_files_month['Product Form'].str.strip()\n",
        "Master_files_month['Month']=Master_files_month['Month'].map(str).str.strip().str[0:10]\n",
        "keep=[\"Plant\",\"Product Class Name\", \"Product Form\",\"Month\",\"TONS\"]\n",
        "Master_files_month=Master_files_month[keep].groupby(by=[\"Plant\",\"Product Class Name\",\"Product Form\",\"Month\"]).sum().reset_index()\n",
        "Master_files_month=Master_files_month[Master_files_month['TONS']>0]\n",
        "\n",
        "Master_files_month[\"Month Key\"]=Master_files_month['Plant'].map(str)+Master_files_month['Product Class Name'].map(str)+Master_files_month['Product Form'].map(str)+Master_files_month['Month'].map(str) ###CREATE MONTH KEY\n",
        "Master_files_month.head()"
      ],
      "execution_count": 60,
      "outputs": [
        {
          "output_type": "execute_result",
          "data": {
            "text/html": [
              "<div>\n",
              "<style scoped>\n",
              "    .dataframe tbody tr th:only-of-type {\n",
              "        vertical-align: middle;\n",
              "    }\n",
              "\n",
              "    .dataframe tbody tr th {\n",
              "        vertical-align: top;\n",
              "    }\n",
              "\n",
              "    .dataframe thead th {\n",
              "        text-align: right;\n",
              "    }\n",
              "</style>\n",
              "<table border=\"1\" class=\"dataframe\">\n",
              "  <thead>\n",
              "    <tr style=\"text-align: right;\">\n",
              "      <th></th>\n",
              "      <th>Plant</th>\n",
              "      <th>Product Class Name</th>\n",
              "      <th>Product Form</th>\n",
              "      <th>Month</th>\n",
              "      <th>TONS</th>\n",
              "      <th>Month Key</th>\n",
              "    </tr>\n",
              "  </thead>\n",
              "  <tbody>\n",
              "    <tr>\n",
              "      <th>1</th>\n",
              "      <td>2058</td>\n",
              "      <td>1/2</td>\n",
              "      <td>B</td>\n",
              "      <td>2016-05-01</td>\n",
              "      <td>96.625</td>\n",
              "      <td>20581/2B2016-05-01</td>\n",
              "    </tr>\n",
              "    <tr>\n",
              "      <th>2</th>\n",
              "      <td>2058</td>\n",
              "      <td>1/2</td>\n",
              "      <td>B</td>\n",
              "      <td>2016-06-01</td>\n",
              "      <td>25.093</td>\n",
              "      <td>20581/2B2016-06-01</td>\n",
              "    </tr>\n",
              "    <tr>\n",
              "      <th>3</th>\n",
              "      <td>2058</td>\n",
              "      <td>1/2</td>\n",
              "      <td>B</td>\n",
              "      <td>2016-08-01</td>\n",
              "      <td>72.340</td>\n",
              "      <td>20581/2B2016-08-01</td>\n",
              "    </tr>\n",
              "    <tr>\n",
              "      <th>4</th>\n",
              "      <td>2058</td>\n",
              "      <td>1/2</td>\n",
              "      <td>B</td>\n",
              "      <td>2016-09-01</td>\n",
              "      <td>141.966</td>\n",
              "      <td>20581/2B2016-09-01</td>\n",
              "    </tr>\n",
              "    <tr>\n",
              "      <th>5</th>\n",
              "      <td>2058</td>\n",
              "      <td>1/2</td>\n",
              "      <td>B</td>\n",
              "      <td>2016-10-01</td>\n",
              "      <td>1765.238</td>\n",
              "      <td>20581/2B2016-10-01</td>\n",
              "    </tr>\n",
              "  </tbody>\n",
              "</table>\n",
              "</div>"
            ],
            "text/plain": [
              "  Plant Product Class Name  ...      TONS           Month Key\n",
              "1  2058                1/2  ...    96.625  20581/2B2016-05-01\n",
              "2  2058                1/2  ...    25.093  20581/2B2016-06-01\n",
              "3  2058                1/2  ...    72.340  20581/2B2016-08-01\n",
              "4  2058                1/2  ...   141.966  20581/2B2016-09-01\n",
              "5  2058                1/2  ...  1765.238  20581/2B2016-10-01\n",
              "\n",
              "[5 rows x 6 columns]"
            ]
          },
          "metadata": {
            "tags": []
          },
          "execution_count": 47
        },
        {
          "output_type": "execute_result",
          "data": {
            "text/html": [
              "<div>\n",
              "<style scoped>\n",
              "    .dataframe tbody tr th:only-of-type {\n",
              "        vertical-align: middle;\n",
              "    }\n",
              "\n",
              "    .dataframe tbody tr th {\n",
              "        vertical-align: top;\n",
              "    }\n",
              "\n",
              "    .dataframe thead th {\n",
              "        text-align: right;\n",
              "    }\n",
              "</style>\n",
              "<table border=\"1\" class=\"dataframe\">\n",
              "  <thead>\n",
              "    <tr style=\"text-align: right;\">\n",
              "      <th></th>\n",
              "      <th>Plant</th>\n",
              "      <th>Product Class Name</th>\n",
              "      <th>Product Form</th>\n",
              "      <th>Month</th>\n",
              "      <th>TONS</th>\n",
              "      <th>Month Key</th>\n",
              "    </tr>\n",
              "  </thead>\n",
              "  <tbody>\n",
              "    <tr>\n",
              "      <th>1</th>\n",
              "      <td>2058</td>\n",
              "      <td>1/2</td>\n",
              "      <td>B</td>\n",
              "      <td>2016-01-01</td>\n",
              "      <td>7209.035</td>\n",
              "      <td>20581/2B2016-01-01</td>\n",
              "    </tr>\n",
              "    <tr>\n",
              "      <th>2</th>\n",
              "      <td>2058</td>\n",
              "      <td>1/2</td>\n",
              "      <td>B</td>\n",
              "      <td>2016-02-01</td>\n",
              "      <td>9822.000</td>\n",
              "      <td>20581/2B2016-02-01</td>\n",
              "    </tr>\n",
              "    <tr>\n",
              "      <th>3</th>\n",
              "      <td>2058</td>\n",
              "      <td>1/2</td>\n",
              "      <td>B</td>\n",
              "      <td>2016-03-01</td>\n",
              "      <td>15850.081</td>\n",
              "      <td>20581/2B2016-03-01</td>\n",
              "    </tr>\n",
              "    <tr>\n",
              "      <th>4</th>\n",
              "      <td>2058</td>\n",
              "      <td>1/2</td>\n",
              "      <td>B</td>\n",
              "      <td>2016-04-01</td>\n",
              "      <td>18887.453</td>\n",
              "      <td>20581/2B2016-04-01</td>\n",
              "    </tr>\n",
              "    <tr>\n",
              "      <th>5</th>\n",
              "      <td>2058</td>\n",
              "      <td>1/2</td>\n",
              "      <td>B</td>\n",
              "      <td>2016-05-01</td>\n",
              "      <td>15745.274</td>\n",
              "      <td>20581/2B2016-05-01</td>\n",
              "    </tr>\n",
              "  </tbody>\n",
              "</table>\n",
              "</div>"
            ],
            "text/plain": [
              "  Plant Product Class Name  ...       TONS           Month Key\n",
              "1  2058                1/2  ...   7209.035  20581/2B2016-01-01\n",
              "2  2058                1/2  ...   9822.000  20581/2B2016-02-01\n",
              "3  2058                1/2  ...  15850.081  20581/2B2016-03-01\n",
              "4  2058                1/2  ...  18887.453  20581/2B2016-04-01\n",
              "5  2058                1/2  ...  15745.274  20581/2B2016-05-01\n",
              "\n",
              "[5 rows x 6 columns]"
            ]
          },
          "metadata": {
            "tags": []
          },
          "execution_count": 60
        }
      ]
    },
    {
      "cell_type": "code",
      "metadata": {
        "id": "eFtYBlGN_vU3",
        "colab_type": "code",
        "outputId": "05cae5dd-01ba-4a72-d9dd-ff08bede39b8",
        "colab": {
          "base_uri": "https://localhost:8080/",
          "height": 317
        }
      },
      "source": [
        "Master_files_month[(Master_files_month[\"Plant\"]=='2122')&(Master_files_month[\"Product Class Name\"]==\"1/2\") & (pd.to_datetime(Master_files_month[\"Month\"]).dt.month==10)]"
      ],
      "execution_count": 61,
      "outputs": [
        {
          "output_type": "execute_result",
          "data": {
            "text/html": [
              "<div>\n",
              "<style scoped>\n",
              "    .dataframe tbody tr th:only-of-type {\n",
              "        vertical-align: middle;\n",
              "    }\n",
              "\n",
              "    .dataframe tbody tr th {\n",
              "        vertical-align: top;\n",
              "    }\n",
              "\n",
              "    .dataframe thead th {\n",
              "        text-align: right;\n",
              "    }\n",
              "</style>\n",
              "<table border=\"1\" class=\"dataframe\">\n",
              "  <thead>\n",
              "    <tr style=\"text-align: right;\">\n",
              "      <th></th>\n",
              "      <th>Plant</th>\n",
              "      <th>Product Class Name</th>\n",
              "      <th>Product Form</th>\n",
              "      <th>Month</th>\n",
              "      <th>TONS</th>\n",
              "      <th>Month Key</th>\n",
              "    </tr>\n",
              "  </thead>\n",
              "  <tbody>\n",
              "    <tr>\n",
              "      <th>43</th>\n",
              "      <td>2122</td>\n",
              "      <td>1/2</td>\n",
              "      <td>B</td>\n",
              "      <td>2016-10-01</td>\n",
              "      <td>23.596</td>\n",
              "      <td>21221/2B2016-10-01</td>\n",
              "    </tr>\n",
              "    <tr>\n",
              "      <th>53</th>\n",
              "      <td>2122</td>\n",
              "      <td>1/2</td>\n",
              "      <td>B</td>\n",
              "      <td>2017-10-01</td>\n",
              "      <td>446.514</td>\n",
              "      <td>21221/2B2017-10-01</td>\n",
              "    </tr>\n",
              "    <tr>\n",
              "      <th>64</th>\n",
              "      <td>2122</td>\n",
              "      <td>1/2</td>\n",
              "      <td>B</td>\n",
              "      <td>2018-10-01</td>\n",
              "      <td>2396.688</td>\n",
              "      <td>21221/2B2018-10-01</td>\n",
              "    </tr>\n",
              "    <tr>\n",
              "      <th>76</th>\n",
              "      <td>2122</td>\n",
              "      <td>1/2</td>\n",
              "      <td>B</td>\n",
              "      <td>2019-10-01</td>\n",
              "      <td>4021.742</td>\n",
              "      <td>21221/2B2019-10-01</td>\n",
              "    </tr>\n",
              "  </tbody>\n",
              "</table>\n",
              "</div>"
            ],
            "text/plain": [
              "   Plant Product Class Name  ...      TONS           Month Key\n",
              "43  2122                1/2  ...    23.596  21221/2B2016-10-01\n",
              "53  2122                1/2  ...   446.514  21221/2B2017-10-01\n",
              "64  2122                1/2  ...  2396.688  21221/2B2018-10-01\n",
              "76  2122                1/2  ...  4021.742  21221/2B2019-10-01\n",
              "\n",
              "[4 rows x 6 columns]"
            ]
          },
          "metadata": {
            "tags": []
          },
          "execution_count": 48
        },
        {
          "output_type": "execute_result",
          "data": {
            "text/html": [
              "<div>\n",
              "<style scoped>\n",
              "    .dataframe tbody tr th:only-of-type {\n",
              "        vertical-align: middle;\n",
              "    }\n",
              "\n",
              "    .dataframe tbody tr th {\n",
              "        vertical-align: top;\n",
              "    }\n",
              "\n",
              "    .dataframe thead th {\n",
              "        text-align: right;\n",
              "    }\n",
              "</style>\n",
              "<table border=\"1\" class=\"dataframe\">\n",
              "  <thead>\n",
              "    <tr style=\"text-align: right;\">\n",
              "      <th></th>\n",
              "      <th>Plant</th>\n",
              "      <th>Product Class Name</th>\n",
              "      <th>Product Form</th>\n",
              "      <th>Month</th>\n",
              "      <th>TONS</th>\n",
              "      <th>Month Key</th>\n",
              "    </tr>\n",
              "  </thead>\n",
              "  <tbody>\n",
              "    <tr>\n",
              "      <th>83</th>\n",
              "      <td>2122</td>\n",
              "      <td>1/2</td>\n",
              "      <td>B</td>\n",
              "      <td>2016-10-01</td>\n",
              "      <td>39705.037</td>\n",
              "      <td>21221/2B2016-10-01</td>\n",
              "    </tr>\n",
              "    <tr>\n",
              "      <th>95</th>\n",
              "      <td>2122</td>\n",
              "      <td>1/2</td>\n",
              "      <td>B</td>\n",
              "      <td>2017-10-01</td>\n",
              "      <td>43128.479</td>\n",
              "      <td>21221/2B2017-10-01</td>\n",
              "    </tr>\n",
              "    <tr>\n",
              "      <th>107</th>\n",
              "      <td>2122</td>\n",
              "      <td>1/2</td>\n",
              "      <td>B</td>\n",
              "      <td>2018-10-01</td>\n",
              "      <td>39581.961</td>\n",
              "      <td>21221/2B2018-10-01</td>\n",
              "    </tr>\n",
              "    <tr>\n",
              "      <th>119</th>\n",
              "      <td>2122</td>\n",
              "      <td>1/2</td>\n",
              "      <td>B</td>\n",
              "      <td>2019-10-01</td>\n",
              "      <td>35063.151</td>\n",
              "      <td>21221/2B2019-10-01</td>\n",
              "    </tr>\n",
              "  </tbody>\n",
              "</table>\n",
              "</div>"
            ],
            "text/plain": [
              "    Plant Product Class Name  ...       TONS           Month Key\n",
              "83   2122                1/2  ...  39705.037  21221/2B2016-10-01\n",
              "95   2122                1/2  ...  43128.479  21221/2B2017-10-01\n",
              "107  2122                1/2  ...  39581.961  21221/2B2018-10-01\n",
              "119  2122                1/2  ...  35063.151  21221/2B2019-10-01\n",
              "\n",
              "[4 rows x 6 columns]"
            ]
          },
          "metadata": {
            "tags": []
          },
          "execution_count": 61
        }
      ]
    },
    {
      "cell_type": "code",
      "metadata": {
        "id": "QkPwzmn4_z-t",
        "colab_type": "code",
        "outputId": "945d7605-dcb7-47b1-e070-19a2f8835dd6",
        "colab": {
          "base_uri": "https://localhost:8080/",
          "height": 119
        }
      },
      "source": [
        "import numpy as np\n",
        "###############################################  WEEKLY #############################################\n",
        "#### MERGES THE WEEKLY ACTUALS WITH THE WEEKLY FORECASTS.  OUTPUT ALL THE METRICS TO EXCEL FILES\n",
        "### CREATE A LIST OF ALL THE FILES IN THE FOLDER SO WE CAN LOOP THROUGH THEM\n",
        "os.chdir(sdf_dir_weekly)\n",
        "sdf_forecast_files_weekly=os.listdir(sdf_dir_weekly)\n",
        "\n",
        "writer=pd.ExcelWriter('SDF_weekly_noprojects.xlsx') ###CREATE THE EXCEL FILE\n",
        "MAPE=[]\n",
        "FCA=[]\n",
        "WAPE=[]\n",
        "for sdf_files in sdf_forecast_files_weekly:\n",
        "  actuals=pd.read_csv(sdf_files,date_parser={\"Month\",\"Day\",\"Year\"})\n",
        "  actuals[\"Time\"]=actuals['forecasted_time']\n",
        "  actuals[\"Plant\"]=actuals[\"Plant\"].map(str).str.strip()\n",
        "  actuals['Product Class Name']=actuals['Product_Class'].str.strip()\n",
        "  actuals['Product Form']=actuals['Product_Form'].str.strip()\n",
        "  actuals['Time']=actuals['Time'].map(str).str.strip().str[0:10]\n",
        "  actuals[\"Key\"]=actuals[\"Plant\"].map(str)+actuals[\"Product Class Name\"].map(str)+actuals[\"Product Form\"].map(str)+actuals[\"Time\"].map(str)\n",
        "\n",
        "  week=pd.merge(actuals,Master_files_week[[\"Week Key\",\"TONS\"]],how='inner',left_on='Key',right_on=\"Week Key\")\n",
        "  week=week.rename(columns={\"TONS\":\"Actuals\",\"volume\":\"Forecast\"})\n",
        "  week[\"Abs_Dif\"]=np.abs(week[\"Actuals\"].subtract(week[\"Forecast\"]))\n",
        "  week[\"APE\"]=week[\"Abs_Dif\"].divide(week[\"Actuals\"])\n",
        "  week[\"one\"]=1\n",
        "  week[\"APE_max1\"]=week[[\"APE\",'one']].min(axis=1)\n",
        "  week=week.drop([\"Time\",\"Key\",'Week Key','one','APE'],axis=1)\n",
        "  FCA.append(week[\"Abs_Dif\"].sum()/week[\"Actuals\"].sum())\n",
        "  MAPE.append(sdf_files +\": \"+ str(week[\"APE_max1\"].mean()) )\n",
        "  WAPE.append(\"Wape: \"+ str(week[\"Abs_Dif\"].sum()/week[\"Actuals\"].sum()))\n",
        "  #valuation.append(sdf_files +\" : \"+ str(tf.keras.metrics.mean_absolute_percentage_error(tf.cast(week[\"Actuals\"],tf.float32),tf.cast(week[\"Forecast\"],tf.float32)).numpy())+'%')\n",
        "  week.to_excel(writer,sdf_files,index=False) ###ADDS IN TABS FOR THE EXCEL FILE\n",
        "print(\"Mean Absolute Percentage Error: \",MAPE) \n",
        "print(\"FCA: \",FCA)\n",
        "print(\"WAPE: \", WAPE)"
      ],
      "execution_count": 62,
      "outputs": [
        {
          "output_type": "stream",
          "text": [
            "Mean Absolute Percentage Error:  ['20190922_weekly_forecast.csv: 0.953931119292856', '20190825_weekly_forecast.csv: 0.9598629554806053', '20190725_weekly_forecast.csv: 0.9492241726928843']\n",
            "FCA:  [8.8234125067642, 8.155238213718746, 7.894267505245001]\n",
            "WAPE:  ['Wape: 8.8234125067642', 'Wape: 8.155238213718746', 'Wape: 7.894267505245001']\n",
            "Mean Absolute Percentage Error:  ['20190922_weekly_forecast.csv: 0.5376518548168088', '20190825_weekly_forecast.csv: 0.5153121684113493', '20190725_weekly_forecast.csv: 0.4962612231656349']\n",
            "FCA:  [0.6854988340743304, 0.5846945477285295, 0.4868974139226512]\n",
            "WAPE:  ['Wape: 0.6854988340743304', 'Wape: 0.5846945477285295', 'Wape: 0.4868974139226512']\n"
          ],
          "name": "stdout"
        }
      ]
    },
    {
      "cell_type": "code",
      "metadata": {
        "id": "qiC_oM7JA-Kp",
        "colab_type": "code",
        "outputId": "5f05fc35-9f42-4b46-9f88-a3bc8cfc7fdf",
        "colab": {
          "base_uri": "https://localhost:8080/",
          "height": 1000
        }
      },
      "source": [
        "################################################   MONTHLY  #########################################\n",
        "os.chdir(sdf_dir_monthly_v2)\n",
        "sdf_forecast_files_monthly=os.listdir(sdf_dir_monthly_v2)\n",
        "import numpy as np\n",
        "from matplotlib import pyplot as plt\n",
        "\n",
        "\n",
        "writer_monthly=pd.ExcelWriter('SDF_monthly_noprojects_v2.xlsx') ###Create the monthly excel file\n",
        "MAPE=[]\n",
        "MAPE_after=[]\n",
        "FCA=[]\n",
        "WAPE=[]\n",
        "WAPE_after=[]\n",
        "actuals=pd.DataFrame()\n",
        "for sdf_files in sdf_forecast_files_monthly:\n",
        "  time_cut=int(sdf_files[4:6])+1 ###1 month after only\n",
        "  ####Read the actual files in \n",
        "  actuals=pd.read_csv(sdf_files,parse_dates=True)\n",
        "  actuals[\"Time_temp\"]=pd.to_datetime(actuals['forecasted_time'])#.map(str).apply(lambda x: x[:10]) ###Need this since python was not reading in dates correctly.\n",
        "  actuals[\"Time\"]=actuals['Time_temp'].map(str).str.strip().str[0:10]#.apply(lambda x: dt.datetime.strptime(x,'%y/%m/%d'))\n",
        "  actuals[\"Plant\"]=actuals[\"Plant\"].map(str).str.strip() #get rid of leading and trailing blanks\n",
        "  actuals['Product Class Name']=actuals['Product_Class'].replace(\"2-Jan\",\"1/2\").str.strip() ##python would read in 1/2 as 2-Jan.  Probably due to excel formatting issue\n",
        "  actuals['Product Form']=actuals['Product_Form'].str.strip()\n",
        "  actuals['Time']=actuals['Time'].map(str).str.strip().str[0:10]\n",
        "  actuals[\"Key\"]=actuals[\"Plant\"].map(str)+actuals[\"Product Class Name\"].map(str)+actuals[\"Product Form\"].map(str)+actuals[\"Time\"].map(str)  ##Create a key\n",
        "\n",
        "  month=pd.merge(actuals,Master_files_month[[\"Month Key\",\"Month\",\"TONS\"]],how='inner',left_on='Key',right_on=\"Month Key\")\n",
        "  month=month.rename(columns={\"TONS\":\"Actuals\",\"volume\":\"Forecast\"})\n",
        "  month[\"month_relevant\"]=(month[\"Time\"].map(str).str[5:7]).map(int)\n",
        "  month[\"Abs_Dif\"]=np.abs(month[\"Actuals\"].subtract(month[\"Forecast\"]))\n",
        "  month[\"APE\"]=month[\"Abs_Dif\"].divide(month[\"Actuals\"])\n",
        "  month[\"APE\"][(month[\"Actuals\"]==0) & (month[\"Forecast\"]==0)]=0\n",
        "  month[\"one\"]=1\n",
        "  month[\"zero\"]=0\n",
        "  month[\"APE_max1\"]=month[[\"APE\",'one']].min(axis=1)\n",
        "  #month[\"APE_max1\"]=month[[\"APE\",'zero']].max(axis=1)\n",
        "  month=month.drop([\"Time_temp\",\"Key\",'Month Key','one',\"zero\"],axis=1)\n",
        "  FCA.append(month[\"Abs_Dif\"].sum()/month[\"Actuals\"].sum())\n",
        "  MAPE.append(sdf_files +\": \"+ str(month[\"APE_max1\"].mean()) )\n",
        "  MAPE_after.append(sdf_files+\": \" + str(month[[\"APE_max1\",\"month_relevant\"]][month[\"month_relevant\"]==time_cut][\"APE_max1\"].mean()) )\n",
        "  WAPE.append(month[\"APE_max1\"].multiply(month[\"Actuals\"][month[\"month_relevant\"]==time_cut]).sum()/month[\"Actuals\"][month[\"month_relevant\"]==time_cut].sum())\n",
        "  WAPE_after.append(month[\"APE_max1\"].multiply(month[\"Actuals\"]).sum()/month[\"Actuals\"].sum())\n",
        "  month[\"Key\"]=month[\"Plant\"]+month[\"Product Class Name\"]+month[\"Product Form\"]+month[\"month_relevant\"].astype(str)\n",
        "  month[\"Metric\"]=\"\"\n",
        "  month[\"Metric\"][0]=str(\"MAPE 1 Month After: \"+str(MAPE_after[-1]))\n",
        "  month[\"Metric\"][1]=str(\"MAPE:\"+str(MAPE[-1])) \n",
        "  month[\"Metric\"][2]=str(\"FCA:\"+str(FCA[-1]))\n",
        "  month[\"Metric\"][3]=str(\"WAPE:\"+str(WAPE[-1]))\n",
        "  month[\"Metric\"][4]=str(\"MAE:\"+str(month['Abs_Dif'].mean()))\n",
        "  keep2=[\"Plant\",\"Product Class Name\",\"Product Form\",\"forecasted_time\",\"Actuals\",\"Forecast\",\"Abs_Dif\",\"APE\",\"APE_max1\",\"Metric\"]\n",
        "  month=month[keep2]\n",
        "  month.to_excel(writer_monthly,str(sdf_files)[0:8],index=False)\n",
        "\n",
        "\n",
        "  month_plot=month.set_index(\"forecasted_time\")\n",
        "  \n",
        "  \n",
        "\n",
        "print(\"Mean Absolute Percentage Error Next Month Only: \",MAPE_after,\"%\")\n",
        "print(\"FCA: \",FCA,\"%\")\n",
        "print(\"MAPE: \",MAPE,\"%\")\n",
        "print(\"WAPE: \",WAPE,\"%\")\n",
        "print(\"WAPE_1month_after:\", WAPE_after,\"%\")\n"
      ],
      "execution_count": 63,
      "outputs": [
        {
          "output_type": "stream",
          "text": [
            "/usr/local/lib/python3.6/dist-packages/ipykernel_launcher.py:31: SettingWithCopyWarning: \n",
            "A value is trying to be set on a copy of a slice from a DataFrame\n",
            "\n",
            "See the caveats in the documentation: http://pandas.pydata.org/pandas-docs/stable/user_guide/indexing.html#returning-a-view-versus-a-copy\n",
            "/usr/local/lib/python3.6/dist-packages/ipykernel_launcher.py:44: SettingWithCopyWarning: \n",
            "A value is trying to be set on a copy of a slice from a DataFrame\n",
            "\n",
            "See the caveats in the documentation: http://pandas.pydata.org/pandas-docs/stable/user_guide/indexing.html#returning-a-view-versus-a-copy\n",
            "/usr/local/lib/python3.6/dist-packages/ipykernel_launcher.py:45: SettingWithCopyWarning: \n",
            "A value is trying to be set on a copy of a slice from a DataFrame\n",
            "\n",
            "See the caveats in the documentation: http://pandas.pydata.org/pandas-docs/stable/user_guide/indexing.html#returning-a-view-versus-a-copy\n",
            "/usr/local/lib/python3.6/dist-packages/ipykernel_launcher.py:46: SettingWithCopyWarning: \n",
            "A value is trying to be set on a copy of a slice from a DataFrame\n",
            "\n",
            "See the caveats in the documentation: http://pandas.pydata.org/pandas-docs/stable/user_guide/indexing.html#returning-a-view-versus-a-copy\n",
            "/usr/local/lib/python3.6/dist-packages/ipykernel_launcher.py:47: SettingWithCopyWarning: \n",
            "A value is trying to be set on a copy of a slice from a DataFrame\n",
            "\n",
            "See the caveats in the documentation: http://pandas.pydata.org/pandas-docs/stable/user_guide/indexing.html#returning-a-view-versus-a-copy\n",
            "/usr/local/lib/python3.6/dist-packages/ipykernel_launcher.py:48: SettingWithCopyWarning: \n",
            "A value is trying to be set on a copy of a slice from a DataFrame\n",
            "\n",
            "See the caveats in the documentation: http://pandas.pydata.org/pandas-docs/stable/user_guide/indexing.html#returning-a-view-versus-a-copy\n"
          ],
          "name": "stderr"
        },
        {
          "output_type": "stream",
          "text": [
            "Mean Absolute Percentage Error Next Month Only:  ['20190825_monthly_forecast_nobigproj.csv: 0.9469579633872582', '20190925_monthly_forecast_nobigproj.csv: 0.9698434827186311', '20190725_monthly_forecast_nobigproj.csv: 0.9523933287071112'] %\n",
            "FCA:  [8.811853553518839, 10.06717918977321, 8.380496215678564] %\n",
            "MAPE:  ['20190825_monthly_forecast_nobigproj.csv: 0.9621969559721478', '20190925_monthly_forecast_nobigproj.csv: 0.9703424341385042', '20190725_monthly_forecast_nobigproj.csv: 0.9582583135356418'] %\n",
            "WAPE:  [0.8232825177988184, 0.7976238471669486, 0.7838704859789668] %\n",
            "WAPE_1month_after: [0.7968900597127794, 0.7924541693359812, 0.8000214028893646] %\n"
          ],
          "name": "stdout"
        },
        {
          "output_type": "stream",
          "text": [
            "/usr/local/lib/python3.6/dist-packages/ipykernel_launcher.py:31: SettingWithCopyWarning: \n",
            "A value is trying to be set on a copy of a slice from a DataFrame\n",
            "\n",
            "See the caveats in the documentation: http://pandas.pydata.org/pandas-docs/stable/user_guide/indexing.html#returning-a-view-versus-a-copy\n",
            "/usr/local/lib/python3.6/dist-packages/ipykernel_launcher.py:44: SettingWithCopyWarning: \n",
            "A value is trying to be set on a copy of a slice from a DataFrame\n",
            "\n",
            "See the caveats in the documentation: http://pandas.pydata.org/pandas-docs/stable/user_guide/indexing.html#returning-a-view-versus-a-copy\n",
            "/usr/local/lib/python3.6/dist-packages/ipykernel_launcher.py:45: SettingWithCopyWarning: \n",
            "A value is trying to be set on a copy of a slice from a DataFrame\n",
            "\n",
            "See the caveats in the documentation: http://pandas.pydata.org/pandas-docs/stable/user_guide/indexing.html#returning-a-view-versus-a-copy\n",
            "/usr/local/lib/python3.6/dist-packages/ipykernel_launcher.py:46: SettingWithCopyWarning: \n",
            "A value is trying to be set on a copy of a slice from a DataFrame\n",
            "\n",
            "See the caveats in the documentation: http://pandas.pydata.org/pandas-docs/stable/user_guide/indexing.html#returning-a-view-versus-a-copy\n",
            "/usr/local/lib/python3.6/dist-packages/ipykernel_launcher.py:47: SettingWithCopyWarning: \n",
            "A value is trying to be set on a copy of a slice from a DataFrame\n",
            "\n",
            "See the caveats in the documentation: http://pandas.pydata.org/pandas-docs/stable/user_guide/indexing.html#returning-a-view-versus-a-copy\n",
            "/usr/local/lib/python3.6/dist-packages/ipykernel_launcher.py:48: SettingWithCopyWarning: \n",
            "A value is trying to be set on a copy of a slice from a DataFrame\n",
            "\n",
            "See the caveats in the documentation: http://pandas.pydata.org/pandas-docs/stable/user_guide/indexing.html#returning-a-view-versus-a-copy\n"
          ],
          "name": "stderr"
        },
        {
          "output_type": "stream",
          "text": [
            "Mean Absolute Percentage Error Next Month Only:  ['20190825_monthly_forecast_nobigproj.csv: 0.40851650264894807', '20190925_monthly_forecast_nobigproj.csv: 0.414292575994903', '20190725_monthly_forecast_nobigproj.csv: 0.4190067987257585'] %\n",
            "FCA:  [0.4144713760296089, 0.5077868183613916, 0.36154247992390875] %\n",
            "MAPE:  ['20190825_monthly_forecast_nobigproj.csv: 0.5263135790278973', '20190925_monthly_forecast_nobigproj.csv: 0.5563168242016501', '20190725_monthly_forecast_nobigproj.csv: 0.49748678838360977'] %\n",
            "WAPE:  [0.21133212665125475, 0.1668965471511455, 0.207719184080756] %\n",
            "WAPE_1month_after: [0.22258308309954325, 0.20494244882414034, 0.22642135176125022] %\n"
          ],
          "name": "stdout"
        }
      ]
    },
    {
      "cell_type": "code",
      "metadata": {
        "id": "r4jaya3ip0GN",
        "colab_type": "code",
        "colab": {}
      },
      "source": [
        "##WRITE OUT THE MONTHLY FILE\n",
        "os.chdir(sdf_dir)\n",
        "##Master_files_month.to_excel(\"Master_files_month.xlsx\")\n",
        "##Master_files.to_excel(\"Master_files.xlsx\")\n",
        "writer.save()\n",
        "writer_monthly.save() \n",
        "\n",
        "###################################################################################################################################################################################\n",
        "\n",
        "###################################################################################################################################################################################\n",
        "\n",
        "###################################################################################################################################################################################"
      ],
      "execution_count": 0,
      "outputs": []
    },
    {
      "cell_type": "code",
      "metadata": {
        "id": "31mp9Q_xJylr",
        "colab_type": "code",
        "colab": {}
      },
      "source": [
        "#os.chdir(dir_output)\n",
        "##Master_files[pd.to_datetime(Master_files[\"Calendar day\"]).dt.year==2019].to_csv(\"Master_file_2019.csv\")"
      ],
      "execution_count": 0,
      "outputs": []
    },
    {
      "cell_type": "code",
      "metadata": {
        "id": "OOA7-FSgtJJH",
        "colab_type": "code",
        "colab": {}
      },
      "source": [
        ""
      ],
      "execution_count": 0,
      "outputs": []
    }
  ]
}