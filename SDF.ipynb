{
  "nbformat": 4,
  "nbformat_minor": 0,
  "metadata": {
    "colab": {
      "name": "SDF.ipynb",
      "provenance": [],
      "collapsed_sections": [],
      "include_colab_link": true
    },
    "kernelspec": {
      "name": "python3",
      "display_name": "Python 3"
    },
    "accelerator": "GPU"
  },
  "cells": [
    {
      "cell_type": "markdown",
      "metadata": {
        "id": "view-in-github",
        "colab_type": "text"
      },
      "source": [
        "<a href=\"https://colab.research.google.com/github/vuchicago/Helloworld/blob/master/SDF.ipynb\" target=\"_parent\"><img src=\"https://colab.research.google.com/assets/colab-badge.svg\" alt=\"Open In Colab\"/></a>"
      ]
    },
    {
      "cell_type": "code",
      "metadata": {
        "id": "dte2TLxlCl_y",
        "colab_type": "code",
        "outputId": "ae7a8df4-b20a-4a6b-a3ed-93fada058356",
        "colab": {
          "base_uri": "https://localhost:8080/",
          "height": 122
        }
      },
      "source": [
        "####MOUNT DRIVE\n",
        "from google.colab import drive\n",
        "drive.mount('/content/gdrive',force_remount=True)"
      ],
      "execution_count": 6,
      "outputs": [
        {
          "output_type": "stream",
          "text": [
            "Go to this URL in a browser: https://accounts.google.com/o/oauth2/auth?client_id=947318989803-6bn6qk8qdgf4n4g3pfee6491hc0brc4i.apps.googleusercontent.com&redirect_uri=urn%3Aietf%3Awg%3Aoauth%3A2.0%3Aoob&scope=email%20https%3A%2F%2Fwww.googleapis.com%2Fauth%2Fdocs.test%20https%3A%2F%2Fwww.googleapis.com%2Fauth%2Fdrive%20https%3A%2F%2Fwww.googleapis.com%2Fauth%2Fdrive.photos.readonly%20https%3A%2F%2Fwww.googleapis.com%2Fauth%2Fpeopleapi.readonly&response_type=code\n",
            "\n",
            "Enter your authorization code:\n",
            "··········\n",
            "Mounted at /content/gdrive\n"
          ],
          "name": "stdout"
        }
      ]
    },
    {
      "cell_type": "code",
      "metadata": {
        "id": "S6P1xBOmc8hS",
        "colab_type": "code",
        "colab": {}
      },
      "source": [
        "#!pip install tf-nightly-2.0-preview #install tensorflow version #2\n",
        "\n",
        "\n",
        "\n",
        "\n"
      ],
      "execution_count": 0,
      "outputs": []
    },
    {
      "cell_type": "code",
      "metadata": {
        "id": "YwJqWWggAofk",
        "colab_type": "code",
        "outputId": "e4a37e38-ab68-41b1-d4a9-a0207428eda1",
        "colab": {
          "base_uri": "https://localhost:8080/",
          "height": 34
        }
      },
      "source": [
        "import tensorflow as tf\n",
        "tf.__version__"
      ],
      "execution_count": 92,
      "outputs": [
        {
          "output_type": "execute_result",
          "data": {
            "text/plain": [
              "'1.15.0'"
            ]
          },
          "metadata": {
            "tags": []
          },
          "execution_count": 92
        }
      ]
    },
    {
      "cell_type": "code",
      "metadata": {
        "id": "-UUw_8deCqTA",
        "colab_type": "code",
        "outputId": "c76c2202-3ee8-4268-92d8-a68b19884812",
        "colab": {
          "base_uri": "https://localhost:8080/",
          "height": 34
        }
      },
      "source": [
        "import os\n",
        "import pandas as pd\n",
        "import datetime as dt\n",
        "from datetime import timedelta as td\n",
        "\n",
        "\n",
        "dir='/content/gdrive/My Drive/' ##original  directory\n",
        "Ext='US Cement Extraction File' \n",
        "Ext_dir=os.path.join(dir,Ext) ##Actuals Directory\n",
        "\n",
        "adl='SDF_Material_Product_Class'\n",
        "adl_dir=os.path.join(Ext_dir,adl) ###Materials to Product Directory\n",
        "\n",
        "sdf_forecast=\"SDF Outputs\"\n",
        "sdf_dir=os.path.join(dir,sdf_forecast) ###SDF Main Directory\n",
        "sdf_dir_weekly=os.path.join(sdf_dir,\"Weekly\") ###Weekly SDF Output Directory\n",
        "sdf_dir_monthly=os.path.join(sdf_dir,\"Monthly\") ###Monthly SDF OUtput Directory\n",
        "\n",
        "\n",
        "tf.__version__\n",
        "\n"
      ],
      "execution_count": 93,
      "outputs": [
        {
          "output_type": "execute_result",
          "data": {
            "text/plain": [
              "'1.15.0'"
            ]
          },
          "metadata": {
            "tags": []
          },
          "execution_count": 93
        }
      ]
    },
    {
      "cell_type": "code",
      "metadata": {
        "id": "cMZSfOTX-TNB",
        "colab_type": "code",
        "colab": {}
      },
      "source": [
        "os.chdir(adl_dir)\n",
        "SDF_Product_Class=pd.read_excel(\"LHUS Material Master Data for Product Class & Form.xlsx\",header=0) ###READ IN THE FILE TO MATCH MATERIAL WITH PRODUCT CLASS"
      ],
      "execution_count": 0,
      "outputs": []
    },
    {
      "cell_type": "code",
      "metadata": {
        "id": "doBVMDhJDR42",
        "colab_type": "code",
        "outputId": "7f39b8f1-0e53-405c-cb70-de4ce08d5d7c",
        "colab": {
          "base_uri": "https://localhost:8080/",
          "height": 299
        }
      },
      "source": [
        "###CHOSE THREE FILES FROM DIFFERENT MONTHS THAT CONTAINED ALL THE DATA\n",
        "os.chdir(Ext_dir)\n",
        "file4=pd.read_csv('HUS_Cement_Report_20191026.csv')\n",
        "file3=pd.read_csv('HUS_Cement_Report_20191016.csv')\n",
        "file2=pd.read_csv('HUS_Cement_Report_20190911.csv')\n",
        "file1=pd.read_csv('HUS_Cement_Report_201907.csv')\n",
        "\n",
        "col_keep=['Plant','Material','Product Form','Calendar day','TONS']\n",
        "file1=file1[col_keep]\n",
        "file2=file2[col_keep]\n",
        "file3=file3[col_keep]\n",
        "file4=file4[col_keep]\n",
        "\n",
        "file1.head()\n"
      ],
      "execution_count": 95,
      "outputs": [
        {
          "output_type": "stream",
          "text": [
            "/usr/local/lib/python3.6/dist-packages/IPython/core/interactiveshell.py:2718: DtypeWarning: Columns (0,2,18,24,29) have mixed types. Specify dtype option on import or set low_memory=False.\n",
            "  interactivity=interactivity, compiler=compiler, result=result)\n",
            "/usr/local/lib/python3.6/dist-packages/IPython/core/interactiveshell.py:2718: DtypeWarning: Columns (0,2,18,20,24,28,33) have mixed types. Specify dtype option on import or set low_memory=False.\n",
            "  interactivity=interactivity, compiler=compiler, result=result)\n",
            "/usr/local/lib/python3.6/dist-packages/IPython/core/interactiveshell.py:2718: DtypeWarning: Columns (0,2,18,20,33) have mixed types. Specify dtype option on import or set low_memory=False.\n",
            "  interactivity=interactivity, compiler=compiler, result=result)\n"
          ],
          "name": "stderr"
        },
        {
          "output_type": "execute_result",
          "data": {
            "text/html": [
              "<div>\n",
              "<style scoped>\n",
              "    .dataframe tbody tr th:only-of-type {\n",
              "        vertical-align: middle;\n",
              "    }\n",
              "\n",
              "    .dataframe tbody tr th {\n",
              "        vertical-align: top;\n",
              "    }\n",
              "\n",
              "    .dataframe thead th {\n",
              "        text-align: right;\n",
              "    }\n",
              "</style>\n",
              "<table border=\"1\" class=\"dataframe\">\n",
              "  <thead>\n",
              "    <tr style=\"text-align: right;\">\n",
              "      <th></th>\n",
              "      <th>Plant</th>\n",
              "      <th>Material</th>\n",
              "      <th>Product Form</th>\n",
              "      <th>Calendar day</th>\n",
              "      <th>TONS</th>\n",
              "    </tr>\n",
              "  </thead>\n",
              "  <tbody>\n",
              "    <tr>\n",
              "      <th>0</th>\n",
              "      <td>2058</td>\n",
              "      <td>PORTLAND,TYPE I/II,LOW ALKALI LSA</td>\n",
              "      <td>B</td>\n",
              "      <td>2019-07-08</td>\n",
              "      <td>1327</td>\n",
              "    </tr>\n",
              "    <tr>\n",
              "      <th>1</th>\n",
              "      <td>2058</td>\n",
              "      <td>PORTLAND,TYPE I/II,LOW ALKALI LSA</td>\n",
              "      <td>B</td>\n",
              "      <td>2019-07-08</td>\n",
              "      <td>1319</td>\n",
              "    </tr>\n",
              "    <tr>\n",
              "      <th>2</th>\n",
              "      <td>2058</td>\n",
              "      <td>PORTLAND,TYPE I/II,LOW ALKALI LSA</td>\n",
              "      <td>B</td>\n",
              "      <td>2019-07-29</td>\n",
              "      <td>1367</td>\n",
              "    </tr>\n",
              "    <tr>\n",
              "      <th>3</th>\n",
              "      <td>2058</td>\n",
              "      <td>PORTLAND,TYPE I/II,LOW ALKALI LSA</td>\n",
              "      <td>B</td>\n",
              "      <td>2019-07-29</td>\n",
              "      <td>1359</td>\n",
              "    </tr>\n",
              "    <tr>\n",
              "      <th>4</th>\n",
              "      <td>2058</td>\n",
              "      <td>PORTLAND,TYPE I/II,LOW ALKALI LSA</td>\n",
              "      <td>B</td>\n",
              "      <td>2019-07-29</td>\n",
              "      <td>1319</td>\n",
              "    </tr>\n",
              "  </tbody>\n",
              "</table>\n",
              "</div>"
            ],
            "text/plain": [
              "  Plant                           Material Product Form Calendar day  TONS\n",
              "0  2058  PORTLAND,TYPE I/II,LOW ALKALI LSA            B   2019-07-08  1327\n",
              "1  2058  PORTLAND,TYPE I/II,LOW ALKALI LSA            B   2019-07-08  1319\n",
              "2  2058  PORTLAND,TYPE I/II,LOW ALKALI LSA            B   2019-07-29  1367\n",
              "3  2058  PORTLAND,TYPE I/II,LOW ALKALI LSA            B   2019-07-29  1359\n",
              "4  2058  PORTLAND,TYPE I/II,LOW ALKALI LSA            B   2019-07-29  1319"
            ]
          },
          "metadata": {
            "tags": []
          },
          "execution_count": 95
        }
      ]
    },
    {
      "cell_type": "markdown",
      "metadata": {
        "id": "VdQMfxceDoxB",
        "colab_type": "text"
      },
      "source": [
        ""
      ]
    },
    {
      "cell_type": "code",
      "metadata": {
        "id": "NsB3AwtUFl9a",
        "colab_type": "code",
        "colab": {}
      },
      "source": [
        "###CONVERT CALENDAR DAY TO PYTHON DATE FORMAT\n",
        "file1[\"Date\"]= file1[\"Calendar day\"].apply(lambda x: dt.datetime.strptime(x,'%Y-%m-%d'))\n",
        "file2[\"Date\"]= file2[\"Calendar day\"].apply(lambda x: dt.datetime.strptime(x,'%Y-%m-%d'))\n",
        "file3[\"Date\"]= file3[\"Calendar day\"].apply(lambda x: dt.datetime.strptime(x,'%Y-%m-%d'))\n",
        "file4[\"Date\"]= file4[\"Calendar day\"].apply(lambda x: dt.datetime.strptime(x,'%Y-%m-%d'))"
      ],
      "execution_count": 0,
      "outputs": []
    },
    {
      "cell_type": "code",
      "metadata": {
        "id": "zg5_u7S6IbRz",
        "colab_type": "code",
        "colab": {}
      },
      "source": [
        "###### OBTAINS ALL THE DATA AND GETS RID OF OVERLAPPING ACTUALS\n",
        "max_date3=pd.to_datetime(file4[\"Date\"]).min()\n",
        "\n",
        "file4=file4[file4[\"Date\"]>max_date3]\n",
        "file3=file3[pd.to_datetime(file3[\"Date\"])<=max_date3]\n",
        "max_date2=file3[\"Date\"].min()\n",
        "file2=file2[file2[\"Date\"]<=max_date2]\n",
        "max_date=file2[\"Date\"].min()\n",
        "file1=file1[file1[\"Date\"]<=max_date]"
      ],
      "execution_count": 0,
      "outputs": []
    },
    {
      "cell_type": "code",
      "metadata": {
        "id": "pJj0wTf7In4B",
        "colab_type": "code",
        "outputId": "f3135f3e-ba78-41ad-b4e4-f4443bece129",
        "colab": {
          "base_uri": "https://localhost:8080/",
          "height": 197
        }
      },
      "source": [
        "##CONCATENATES ALL FILES TOGETHER\n",
        "files=pd.concat([file1,file2,file3,file4]) \n",
        "files.head()"
      ],
      "execution_count": 98,
      "outputs": [
        {
          "output_type": "execute_result",
          "data": {
            "text/html": [
              "<div>\n",
              "<style scoped>\n",
              "    .dataframe tbody tr th:only-of-type {\n",
              "        vertical-align: middle;\n",
              "    }\n",
              "\n",
              "    .dataframe tbody tr th {\n",
              "        vertical-align: top;\n",
              "    }\n",
              "\n",
              "    .dataframe thead th {\n",
              "        text-align: right;\n",
              "    }\n",
              "</style>\n",
              "<table border=\"1\" class=\"dataframe\">\n",
              "  <thead>\n",
              "    <tr style=\"text-align: right;\">\n",
              "      <th></th>\n",
              "      <th>Plant</th>\n",
              "      <th>Material</th>\n",
              "      <th>Product Form</th>\n",
              "      <th>Calendar day</th>\n",
              "      <th>TONS</th>\n",
              "      <th>Date</th>\n",
              "    </tr>\n",
              "  </thead>\n",
              "  <tbody>\n",
              "    <tr>\n",
              "      <th>0</th>\n",
              "      <td>2058</td>\n",
              "      <td>PORTLAND,TYPE I/II,LOW ALKALI LSA</td>\n",
              "      <td>B</td>\n",
              "      <td>2019-07-08</td>\n",
              "      <td>1327</td>\n",
              "      <td>2019-07-08</td>\n",
              "    </tr>\n",
              "    <tr>\n",
              "      <th>1</th>\n",
              "      <td>2058</td>\n",
              "      <td>PORTLAND,TYPE I/II,LOW ALKALI LSA</td>\n",
              "      <td>B</td>\n",
              "      <td>2019-07-08</td>\n",
              "      <td>1319</td>\n",
              "      <td>2019-07-08</td>\n",
              "    </tr>\n",
              "    <tr>\n",
              "      <th>2</th>\n",
              "      <td>2058</td>\n",
              "      <td>PORTLAND,TYPE I/II,LOW ALKALI LSA</td>\n",
              "      <td>B</td>\n",
              "      <td>2019-07-29</td>\n",
              "      <td>1367</td>\n",
              "      <td>2019-07-29</td>\n",
              "    </tr>\n",
              "    <tr>\n",
              "      <th>3</th>\n",
              "      <td>2058</td>\n",
              "      <td>PORTLAND,TYPE I/II,LOW ALKALI LSA</td>\n",
              "      <td>B</td>\n",
              "      <td>2019-07-29</td>\n",
              "      <td>1359</td>\n",
              "      <td>2019-07-29</td>\n",
              "    </tr>\n",
              "    <tr>\n",
              "      <th>4</th>\n",
              "      <td>2058</td>\n",
              "      <td>PORTLAND,TYPE I/II,LOW ALKALI LSA</td>\n",
              "      <td>B</td>\n",
              "      <td>2019-07-29</td>\n",
              "      <td>1319</td>\n",
              "      <td>2019-07-29</td>\n",
              "    </tr>\n",
              "  </tbody>\n",
              "</table>\n",
              "</div>"
            ],
            "text/plain": [
              "  Plant                           Material  ...  TONS       Date\n",
              "0  2058  PORTLAND,TYPE I/II,LOW ALKALI LSA  ...  1327 2019-07-08\n",
              "1  2058  PORTLAND,TYPE I/II,LOW ALKALI LSA  ...  1319 2019-07-08\n",
              "2  2058  PORTLAND,TYPE I/II,LOW ALKALI LSA  ...  1367 2019-07-29\n",
              "3  2058  PORTLAND,TYPE I/II,LOW ALKALI LSA  ...  1359 2019-07-29\n",
              "4  2058  PORTLAND,TYPE I/II,LOW ALKALI LSA  ...  1319 2019-07-29\n",
              "\n",
              "[5 rows x 6 columns]"
            ]
          },
          "metadata": {
            "tags": []
          },
          "execution_count": 98
        }
      ]
    },
    {
      "cell_type": "code",
      "metadata": {
        "id": "wY8qkrb5jS9E",
        "colab_type": "code",
        "colab": {}
      },
      "source": [
        "####MERGES ACTUALS WITH THE PRODUCT CLASS DATA TO OBTAIN THE FIELD \"Product_Class\"\n",
        "Master_files=pd.merge(files,SDF_Product_Class,how='left',left_on='Material',right_on='MATERIAL.TXTMD')\n",
        "Master_files[\"Plant\"]=Master_files[\"Plant\"].astype(str)\n",
        "Master_files=Master_files.drop(['MATERIAL.MATERIAL','MATERIAL./BIC/ZPACKTYP',\"Material\",'MATERIAL.TXTMD'],axis=1)\n",
        "Master_files=Master_files[Master_files[\"TONS\"]!=0]"
      ],
      "execution_count": 0,
      "outputs": []
    },
    {
      "cell_type": "code",
      "metadata": {
        "id": "PfhfpvwTsewF",
        "colab_type": "code",
        "outputId": "c8c8387a-952c-409f-d0ce-c832e39664ad",
        "colab": {
          "base_uri": "https://localhost:8080/",
          "height": 68
        }
      },
      "source": [
        "Master_files=Master_files.rename(columns={'MATERIAL./BIC/ZPRODCLS':\"Product_Class\",'MATERIAL./BIC/ZPRODTYPE':'Product_Type','MATERIAL./BIC/ZPRODFAM':\"Product_Family\"})\n",
        "Master_files.columns"
      ],
      "execution_count": 100,
      "outputs": [
        {
          "output_type": "execute_result",
          "data": {
            "text/plain": [
              "Index(['Plant', 'Product Form', 'Calendar day', 'TONS', 'Date',\n",
              "       'Product_Class', 'Product_Family', 'Product_Type'],\n",
              "      dtype='object')"
            ]
          },
          "metadata": {
            "tags": []
          },
          "execution_count": 100
        }
      ]
    },
    {
      "cell_type": "code",
      "metadata": {
        "id": "0nEUxF6wslAX",
        "colab_type": "code",
        "colab": {}
      },
      "source": [
        "##CREATE THE WEEK COLUMN.  THIS ROUNDS DATE TO THE NEXT WEEKDAY THAT YOU CHOOSE. 6=SUNDAY. WE WILL ROUND TO THE NEAREST FUTURE SUNDAY \n",
        "def next_weekday(d, weekday): ###'d' is the date from dataframe.  \n",
        "    days_ahead = weekday - d.weekday() #'weekday' is the day of the week you want to move ahead (0=Monday, 1=Tuesday, 6=Sunday)\n",
        "    if days_ahead <= 0: # Target day already happened this week\n",
        "        days_ahead += 7\n",
        "    return d + td(days_ahead)\n",
        "\n",
        "\n"
      ],
      "execution_count": 0,
      "outputs": []
    },
    {
      "cell_type": "code",
      "metadata": {
        "id": "QgbUFKZBUT9n",
        "colab_type": "code",
        "colab": {}
      },
      "source": [
        "####GROUPS THE ACTUAL VOLUMES BY 5 GROUPBY CLASSES.  CREATE THE 'WEEK' DATASET\n",
        "Master_files[\"Week\"]=Master_files[\"Date\"].apply(lambda x: next_weekday(x,6)) \n",
        "Master_files_week=Master_files[[\"Plant\",\"Product_Class\",\"Product Form\",\"Week\",\"TONS\"]]\n",
        "Master_files_week=Master_files_week.groupby(by=[\"Plant\",\"Product_Class\",\"Product Form\",\"Week\"]).sum().reset_index()\n",
        "Master_files_week=Master_files_week[Master_files_week['TONS']>0]\n",
        "Master_files_week[\"Plant\"]=Master_files_week[\"Plant\"]\n",
        "Master_files_week['Product_Class']=Master_files_week['Product_Class']\n",
        "Master_files_week['Product Form']=Master_files_week['Product Form']\n",
        "Master_files_week['Week']=Master_files_week['Week'].map(str).str.strip().str[0:10]\n",
        "Master_files_week[\"Week Key\"]=Master_files_week['Plant'].map(str)+Master_files_week['Product_Class'].map(str)+Master_files_week['Product Form'].map(str)+Master_files_week['Week'].map(str) ##CREATE WEEK KEY\n"
      ],
      "execution_count": 0,
      "outputs": []
    },
    {
      "cell_type": "code",
      "metadata": {
        "id": "6MBbbXUQtHLZ",
        "colab_type": "code",
        "outputId": "b899963a-aba8-4bc7-bbf3-e310f8b89570",
        "colab": {
          "base_uri": "https://localhost:8080/",
          "height": 119
        }
      },
      "source": [
        "Master_files_week[\"Week Key\"].head()\n"
      ],
      "execution_count": 103,
      "outputs": [
        {
          "output_type": "execute_result",
          "data": {
            "text/plain": [
              "0    20581/2B2019-07-07\n",
              "1    20581/2B2019-07-14\n",
              "2    20581/2B2019-07-21\n",
              "3    20581/2B2019-07-28\n",
              "4    20581/2B2019-08-04\n",
              "Name: Week Key, dtype: object"
            ]
          },
          "metadata": {
            "tags": []
          },
          "execution_count": 103
        }
      ]
    },
    {
      "cell_type": "code",
      "metadata": {
        "id": "hRMBobobBzX2",
        "colab_type": "code",
        "colab": {}
      },
      "source": [
        "# MONTH DATASET\n",
        "Master_files_month=Master_files\n",
        "Master_files_month[\"Month\"]=Master_files_month[\"Date\"].apply(lambda x: x.replace(day=1))\n",
        "Master_files_month=Master_files_month.groupby(by=[\"Plant\",\"Product_Class\",\"Product Form\",\"Month\"]).sum().reset_index()\n",
        "Master_files_month=Master_files_month[Master_files_month['TONS']>0]\n",
        "Master_files_month[\"Plant\"]=Master_files_month[\"Plant\"].map(str).str.strip()\n",
        "Master_files_month['Product_Class']=Master_files_month['Product_Class'].str.strip()\n",
        "Master_files_month['Product Form']=Master_files_month['Product Form'].str.strip()\n",
        "Master_files_month['Month']=Master_files_month['Month'].map(str).str.strip().str[0:10]\n",
        "Master_files_month[\"Month Key\"]=Master_files_month['Plant'].map(str)+Master_files_month['Product_Class'].map(str)+Master_files_month['Product Form'].map(str)+Master_files_month['Month'].map(str) ###CREATE MONTH KEY"
      ],
      "execution_count": 0,
      "outputs": []
    },
    {
      "cell_type": "code",
      "metadata": {
        "id": "ojnmfJl3tQYO",
        "colab_type": "code",
        "outputId": "f610ed6c-7235-498d-e594-210cd7d41c52",
        "colab": {
          "base_uri": "https://localhost:8080/",
          "height": 405
        }
      },
      "source": [
        "Master_files_month"
      ],
      "execution_count": 105,
      "outputs": [
        {
          "output_type": "execute_result",
          "data": {
            "text/html": [
              "<div>\n",
              "<style scoped>\n",
              "    .dataframe tbody tr th:only-of-type {\n",
              "        vertical-align: middle;\n",
              "    }\n",
              "\n",
              "    .dataframe tbody tr th {\n",
              "        vertical-align: top;\n",
              "    }\n",
              "\n",
              "    .dataframe thead th {\n",
              "        text-align: right;\n",
              "    }\n",
              "</style>\n",
              "<table border=\"1\" class=\"dataframe\">\n",
              "  <thead>\n",
              "    <tr style=\"text-align: right;\">\n",
              "      <th></th>\n",
              "      <th>Plant</th>\n",
              "      <th>Product_Class</th>\n",
              "      <th>Product Form</th>\n",
              "      <th>Month</th>\n",
              "      <th>TONS</th>\n",
              "      <th>Month Key</th>\n",
              "    </tr>\n",
              "  </thead>\n",
              "  <tbody>\n",
              "    <tr>\n",
              "      <th>0</th>\n",
              "      <td>2058</td>\n",
              "      <td>1/2</td>\n",
              "      <td>B</td>\n",
              "      <td>2019-07-01</td>\n",
              "      <td>58717</td>\n",
              "      <td>20581/2B2019-07-01</td>\n",
              "    </tr>\n",
              "    <tr>\n",
              "      <th>1</th>\n",
              "      <td>2058</td>\n",
              "      <td>1/2</td>\n",
              "      <td>B</td>\n",
              "      <td>2019-08-01</td>\n",
              "      <td>53903</td>\n",
              "      <td>20581/2B2019-08-01</td>\n",
              "    </tr>\n",
              "    <tr>\n",
              "      <th>2</th>\n",
              "      <td>2058</td>\n",
              "      <td>1/2</td>\n",
              "      <td>B</td>\n",
              "      <td>2019-09-01</td>\n",
              "      <td>37894</td>\n",
              "      <td>20581/2B2019-09-01</td>\n",
              "    </tr>\n",
              "    <tr>\n",
              "      <th>3</th>\n",
              "      <td>2058</td>\n",
              "      <td>1/2</td>\n",
              "      <td>B</td>\n",
              "      <td>2019-10-01</td>\n",
              "      <td>39025</td>\n",
              "      <td>20581/2B2019-10-01</td>\n",
              "    </tr>\n",
              "    <tr>\n",
              "      <th>4</th>\n",
              "      <td>2122</td>\n",
              "      <td>1/2</td>\n",
              "      <td>B</td>\n",
              "      <td>2019-07-01</td>\n",
              "      <td>50299</td>\n",
              "      <td>21221/2B2019-07-01</td>\n",
              "    </tr>\n",
              "    <tr>\n",
              "      <th>...</th>\n",
              "      <td>...</td>\n",
              "      <td>...</td>\n",
              "      <td>...</td>\n",
              "      <td>...</td>\n",
              "      <td>...</td>\n",
              "      <td>...</td>\n",
              "    </tr>\n",
              "    <tr>\n",
              "      <th>1415</th>\n",
              "      <td>7W02</td>\n",
              "      <td>I..</td>\n",
              "      <td>B</td>\n",
              "      <td>2019-09-01</td>\n",
              "      <td>332</td>\n",
              "      <td>7W02I..B2019-09-01</td>\n",
              "    </tr>\n",
              "    <tr>\n",
              "      <th>1416</th>\n",
              "      <td>7W02</td>\n",
              "      <td>I..</td>\n",
              "      <td>B</td>\n",
              "      <td>2019-10-01</td>\n",
              "      <td>421</td>\n",
              "      <td>7W02I..B2019-10-01</td>\n",
              "    </tr>\n",
              "    <tr>\n",
              "      <th>1417</th>\n",
              "      <td>7W02</td>\n",
              "      <td>SB.</td>\n",
              "      <td>B</td>\n",
              "      <td>2019-09-01</td>\n",
              "      <td>98</td>\n",
              "      <td>7W02SB.B2019-09-01</td>\n",
              "    </tr>\n",
              "    <tr>\n",
              "      <th>1418</th>\n",
              "      <td>7W02</td>\n",
              "      <td>SPE</td>\n",
              "      <td>B</td>\n",
              "      <td>2019-10-01</td>\n",
              "      <td>56</td>\n",
              "      <td>7W02SPEB2019-10-01</td>\n",
              "    </tr>\n",
              "    <tr>\n",
              "      <th>1419</th>\n",
              "      <td>9269</td>\n",
              "      <td>1/2</td>\n",
              "      <td>B</td>\n",
              "      <td>2019-08-01</td>\n",
              "      <td>6620</td>\n",
              "      <td>92691/2B2019-08-01</td>\n",
              "    </tr>\n",
              "  </tbody>\n",
              "</table>\n",
              "<p>1414 rows × 6 columns</p>\n",
              "</div>"
            ],
            "text/plain": [
              "     Plant Product_Class Product Form       Month   TONS           Month Key\n",
              "0     2058           1/2            B  2019-07-01  58717  20581/2B2019-07-01\n",
              "1     2058           1/2            B  2019-08-01  53903  20581/2B2019-08-01\n",
              "2     2058           1/2            B  2019-09-01  37894  20581/2B2019-09-01\n",
              "3     2058           1/2            B  2019-10-01  39025  20581/2B2019-10-01\n",
              "4     2122           1/2            B  2019-07-01  50299  21221/2B2019-07-01\n",
              "...    ...           ...          ...         ...    ...                 ...\n",
              "1415  7W02           I..            B  2019-09-01    332  7W02I..B2019-09-01\n",
              "1416  7W02           I..            B  2019-10-01    421  7W02I..B2019-10-01\n",
              "1417  7W02           SB.            B  2019-09-01     98  7W02SB.B2019-09-01\n",
              "1418  7W02           SPE            B  2019-10-01     56  7W02SPEB2019-10-01\n",
              "1419  9269           1/2            B  2019-08-01   6620  92691/2B2019-08-01\n",
              "\n",
              "[1414 rows x 6 columns]"
            ]
          },
          "metadata": {
            "tags": []
          },
          "execution_count": 105
        }
      ]
    },
    {
      "cell_type": "code",
      "metadata": {
        "id": "L3H9hk4OIPFh",
        "colab_type": "code",
        "outputId": "0d508782-0e0f-441a-9b8a-9ed8306ed0a5",
        "colab": {
          "base_uri": "https://localhost:8080/",
          "height": 34
        }
      },
      "source": [
        "Master_files_month[\"TONS\"].sum()"
      ],
      "execution_count": 106,
      "outputs": [
        {
          "output_type": "execute_result",
          "data": {
            "text/plain": [
              "8050680"
            ]
          },
          "metadata": {
            "tags": []
          },
          "execution_count": 106
        }
      ]
    },
    {
      "cell_type": "code",
      "metadata": {
        "id": "cnicSa1_n2Mx",
        "colab_type": "code",
        "colab": {}
      },
      "source": [
        "from pandas import ExcelWriter\n"
      ],
      "execution_count": 0,
      "outputs": []
    },
    {
      "cell_type": "code",
      "metadata": {
        "id": "WOc6H0jiTsof",
        "colab_type": "code",
        "outputId": "f5da767d-1618-48d6-effd-0596f229cca7",
        "colab": {
          "base_uri": "https://localhost:8080/",
          "height": 68
        }
      },
      "source": [
        "import numpy as np\n",
        "###############################################  WEEKLY #############################################\n",
        "#### MERGES THE WEEKLY ACTUALS WITH THE WEEKLY FORECASTS.  OUTPUT ALL THE METRICS TO EXCEL FILES\n",
        "### CREATE A LIST OF ALL THE FILES IN THE FOLDER SO WE CAN LOOP THROUGH THEM\n",
        "os.chdir(sdf_dir_weekly)\n",
        "sdf_forecast_files_weekly=os.listdir(sdf_dir_weekly)\n",
        "\n",
        "\n",
        "writer=pd.ExcelWriter('SDF_weekly.xlsx') ###CREATE THE EXCEL FILE\n",
        "MAPE=[]\n",
        "FCA=[]\n",
        "WAPE=[]\n",
        "for sdf_files in sdf_forecast_files_weekly:\n",
        "  actuals=pd.read_csv(sdf_files)\n",
        "  actuals[\"Time\"]=actuals['forecasted_time'].apply(lambda x: dt.datetime.strptime(x,'%Y-%m-%d'))\n",
        "  actuals[\"Plant\"]=actuals[\"Plant\"].map(str).str.strip()\n",
        "  actuals['Product_Class']=actuals['Product_Class'].str.strip()\n",
        "  actuals['Product_Form']=actuals['Product_Form'].str.strip()\n",
        "  actuals['Time']=actuals['Time'].map(str).str.strip().str[0:10]\n",
        "  actuals[\"Key\"]=actuals[\"Plant\"].map(str)+actuals[\"Product_Class\"].map(str)+actuals[\"Product_Form\"].map(str)+actuals[\"Time\"].map(str)\n",
        "\n",
        "  week=pd.merge(actuals,Master_files_week[[\"Week Key\",\"TONS\"]],how='inner',left_on='Key',right_on=\"Week Key\")\n",
        "  week=week.rename(columns={\"TONS\":\"Actuals\",\"volume\":\"Forecast\"})\n",
        "  week[\"Abs_Dif\"]=np.abs(week[\"Actuals\"].subtract(week[\"Forecast\"]))\n",
        "  week[\"APE\"]=week[\"Abs_Dif\"].divide(week[\"Actuals\"])\n",
        "  week[\"one\"]=1\n",
        "  week[\"APE_max1\"]=week[[\"APE\",'one']].min(axis=1)\n",
        "  week=week.drop([\"Time\",\"Key\",'one','APE'],axis=1)\n",
        "  FCA.append(week[\"Abs_Dif\"].sum()/week[\"Actuals\"].sum())\n",
        "  MAPE.append(sdf_files +\": \"+ str(week[\"APE_max1\"].mean()) )\n",
        "  WAPE.append(\"Wape: \"+ str(week[\"Abs_Dif\"].sum()/week[\"Actuals\"].sum()))\n",
        "  #valuation.append(sdf_files +\" : \"+ str(tf.keras.metrics.mean_absolute_percentage_error(tf.cast(week[\"Actuals\"],tf.float32),tf.cast(week[\"Forecast\"],tf.float32)).numpy())+'%')\n",
        "  week.to_excel(writer,sdf_files,index=False) ###ADDS IN TABS FOR THE EXCEL FILE\n",
        "print(\"Mean Absolute Percentage Error: \",MAPE) \n",
        "print(\"FCA: \",FCA)\n",
        "print(\"WAPE: \", WAPE)\n"
      ],
      "execution_count": 108,
      "outputs": [
        {
          "output_type": "stream",
          "text": [
            "Mean Absolute Percentage Error:  ['20190922_weekly_forecast.csv: 0.4027827188977941', '20190825_weekly_forecast.csv: 0.40566682195186066', '20190725_weekly_forecast.csv: 0.40774680018290277']\n",
            "FCA:  [0.2464701188223846, 0.2711519113324299, 0.264818432294169]\n",
            "WAPE:  ['Wape: 0.2464701188223846', 'Wape: 0.2711519113324299', 'Wape: 0.264818432294169']\n"
          ],
          "name": "stdout"
        }
      ]
    },
    {
      "cell_type": "code",
      "metadata": {
        "id": "5Blvx7kF_H0X",
        "colab_type": "code",
        "colab": {
          "base_uri": "https://localhost:8080/",
          "height": 405
        },
        "outputId": "ea722b59-5630-4632-d79a-defebed2425a"
      },
      "source": [
        "week[[\"Week Key\",\"APE_max1\"]]"
      ],
      "execution_count": 109,
      "outputs": [
        {
          "output_type": "execute_result",
          "data": {
            "text/html": [
              "<div>\n",
              "<style scoped>\n",
              "    .dataframe tbody tr th:only-of-type {\n",
              "        vertical-align: middle;\n",
              "    }\n",
              "\n",
              "    .dataframe tbody tr th {\n",
              "        vertical-align: top;\n",
              "    }\n",
              "\n",
              "    .dataframe thead th {\n",
              "        text-align: right;\n",
              "    }\n",
              "</style>\n",
              "<table border=\"1\" class=\"dataframe\">\n",
              "  <thead>\n",
              "    <tr style=\"text-align: right;\">\n",
              "      <th></th>\n",
              "      <th>Week Key</th>\n",
              "      <th>APE_max1</th>\n",
              "    </tr>\n",
              "  </thead>\n",
              "  <tbody>\n",
              "    <tr>\n",
              "      <th>0</th>\n",
              "      <td>20581/2B2019-07-28</td>\n",
              "      <td>0.083946</td>\n",
              "    </tr>\n",
              "    <tr>\n",
              "      <th>1</th>\n",
              "      <td>20581/2B2019-08-04</td>\n",
              "      <td>0.217473</td>\n",
              "    </tr>\n",
              "    <tr>\n",
              "      <th>2</th>\n",
              "      <td>20581/2B2019-08-11</td>\n",
              "      <td>0.109371</td>\n",
              "    </tr>\n",
              "    <tr>\n",
              "      <th>3</th>\n",
              "      <td>20581/2B2019-08-18</td>\n",
              "      <td>0.072263</td>\n",
              "    </tr>\n",
              "    <tr>\n",
              "      <th>4</th>\n",
              "      <td>20581/2B2019-08-25</td>\n",
              "      <td>0.047932</td>\n",
              "    </tr>\n",
              "    <tr>\n",
              "      <th>...</th>\n",
              "      <td>...</td>\n",
              "      <td>...</td>\n",
              "    </tr>\n",
              "    <tr>\n",
              "      <th>3389</th>\n",
              "      <td>5482WP.P2019-09-08</td>\n",
              "      <td>0.732104</td>\n",
              "    </tr>\n",
              "    <tr>\n",
              "      <th>3390</th>\n",
              "      <td>54961/2B2019-09-29</td>\n",
              "      <td>0.731253</td>\n",
              "    </tr>\n",
              "    <tr>\n",
              "      <th>3391</th>\n",
              "      <td>7W02SB.B2019-09-22</td>\n",
              "      <td>0.118853</td>\n",
              "    </tr>\n",
              "    <tr>\n",
              "      <th>3392</th>\n",
              "      <td>7W02SB.B2019-09-29</td>\n",
              "      <td>0.282028</td>\n",
              "    </tr>\n",
              "    <tr>\n",
              "      <th>3393</th>\n",
              "      <td>92691/2B2019-09-01</td>\n",
              "      <td>0.980373</td>\n",
              "    </tr>\n",
              "  </tbody>\n",
              "</table>\n",
              "<p>3394 rows × 2 columns</p>\n",
              "</div>"
            ],
            "text/plain": [
              "                Week Key  APE_max1\n",
              "0     20581/2B2019-07-28  0.083946\n",
              "1     20581/2B2019-08-04  0.217473\n",
              "2     20581/2B2019-08-11  0.109371\n",
              "3     20581/2B2019-08-18  0.072263\n",
              "4     20581/2B2019-08-25  0.047932\n",
              "...                  ...       ...\n",
              "3389  5482WP.P2019-09-08  0.732104\n",
              "3390  54961/2B2019-09-29  0.731253\n",
              "3391  7W02SB.B2019-09-22  0.118853\n",
              "3392  7W02SB.B2019-09-29  0.282028\n",
              "3393  92691/2B2019-09-01  0.980373\n",
              "\n",
              "[3394 rows x 2 columns]"
            ]
          },
          "metadata": {
            "tags": []
          },
          "execution_count": 109
        }
      ]
    },
    {
      "cell_type": "code",
      "metadata": {
        "id": "DDuT_mN9j7dH",
        "colab_type": "code",
        "outputId": "192d9a6d-e3d7-442f-de4c-e803fce5a89f",
        "colab": {
          "base_uri": "https://localhost:8080/",
          "height": 375
        }
      },
      "source": [
        "################################################   MONTHLY  #########################################\n",
        "os.chdir(sdf_dir_monthly)\n",
        "sdf_forecast_files_monthly=os.listdir(sdf_dir_monthly)\n",
        "import numpy as np\n",
        "from matplotlib import pyplot as plt\n",
        "\n",
        "\n",
        "writer_monthly=pd.ExcelWriter('SDF_monthly.xlsx') ###Create the monthly excel file\n",
        "MAPE=[]\n",
        "MAPE_after=[]\n",
        "FCA=[]\n",
        "WAPE=[]\n",
        "actuals=pd.DataFrame()\n",
        "for sdf_files in sdf_forecast_files_monthly:\n",
        "  time_cut=int(sdf_files[4:6])+1 ###1 month after only\n",
        "  ####Read the actual files in \n",
        "  actuals=pd.read_csv(sdf_files)\n",
        "  actuals[\"Time_temp\"]=actuals['forecasted_time'].map(str).apply(lambda x: x[:9]) ###Need this since python was not reading in dates correctly.\n",
        "  actuals[\"Time\"]=actuals['Time_temp'].apply(lambda x: dt.datetime.strptime(x,'%m/%d/%y'))\n",
        "  actuals[\"Plant\"]=actuals[\"Plant\"].map(str).str.strip() #get rid of leading and trailing blanks\n",
        "  actuals['Product_Class']=actuals['Product_Class'].replace(\"2-Jan\",\"1/2\").str.strip() ##python would read in 1/2 as 2-Jan.  Probably due to excel formatting issue\n",
        "  actuals['Product_Form']=actuals['Product_Form'].str.strip()\n",
        "  actuals['Time']=actuals['Time'].map(str).str.strip().str[0:10]\n",
        "  actuals[\"Key\"]=actuals[\"Plant\"].map(str)+actuals[\"Product_Class\"].map(str)+actuals[\"Product_Form\"].map(str)+actuals[\"Time\"].map(str)  ##Create a key\n",
        "\n",
        "  month=pd.merge(actuals,Master_files_month[[\"Month Key\",\"TONS\"]],how='inner',left_on='Key',right_on=\"Month Key\")\n",
        "  month=month.rename(columns={\"TONS\":\"Actuals\",\"volume\":\"Forecast\"})\n",
        "  month[\"month_relevant\"]=(month[\"Time\"].map(str).str[5:7]).map(int)\n",
        "  month[\"Abs_Dif\"]=np.abs(month[\"Actuals\"].subtract(month[\"Forecast\"]))\n",
        "  month[\"APE\"]=month[\"Abs_Dif\"].divide(month[\"Actuals\"])\n",
        "  month[\"one\"]=1\n",
        "  month[\"APE_max1\"]=month[[\"APE\",'one']].min(axis=1)\n",
        "  month=month.drop([\"Time_temp\",\"Key\",'one'],axis=1)\n",
        "  FCA.append(month[\"Abs_Dif\"].sum()/month[\"Actuals\"].sum())\n",
        "  MAPE.append(sdf_files +\": \"+ str(month[\"APE_max1\"].mean()) )\n",
        "  MAPE_after.append(sdf_files+\": \" + str(month[[\"APE_max1\",\"month_relevant\"]][month[\"month_relevant\"]==time_cut][\"APE_max1\"].mean()) )\n",
        "  WAPE.append(month[\"Abs_Dif\"].sum()/month[\"Actuals\"].sum())\n",
        "  month[\"Metric\"]=\"\"\n",
        "  month[\"Metric\"][0]=str(\"MAPE 1 Month After: \"+str(MAPE_after[-1]))\n",
        "  month[\"Metric\"][1]=str(\"MAPE:\"+str(MAPE[-1])) \n",
        "  month[\"Metric\"][2]=str(\"FCA:\"+str(FCA[-1]))\n",
        "  month[\"Metric\"][3]=str(\"WAPE:\"+str(WAPE[-1]))\n",
        "  month.to_excel(writer_monthly,sdf_files,index=False)\n",
        "\n",
        "\n",
        "  month_plot=month.set_index(\"forecasted_time\")\n",
        "  \n",
        "  \n",
        "print(\"Mean Absolute Percentage Error: \",MAPE,\"%\")\n",
        "print(\"Mean Absolute Percentage Error Next Month Only: \",MAPE_after,\"%\")\n",
        "print(\"FCA: \",FCA,\"%\")\n",
        "print(\"MAPE: \",MAPE,\"%\")\n",
        "print(\"WAPE: \",WAPE)"
      ],
      "execution_count": 111,
      "outputs": [
        {
          "output_type": "stream",
          "text": [
            "/usr/local/lib/python3.6/dist-packages/ipykernel_launcher.py:38: SettingWithCopyWarning: \n",
            "A value is trying to be set on a copy of a slice from a DataFrame\n",
            "\n",
            "See the caveats in the documentation: http://pandas.pydata.org/pandas-docs/stable/user_guide/indexing.html#returning-a-view-versus-a-copy\n",
            "/usr/local/lib/python3.6/dist-packages/ipykernel_launcher.py:39: SettingWithCopyWarning: \n",
            "A value is trying to be set on a copy of a slice from a DataFrame\n",
            "\n",
            "See the caveats in the documentation: http://pandas.pydata.org/pandas-docs/stable/user_guide/indexing.html#returning-a-view-versus-a-copy\n",
            "/usr/local/lib/python3.6/dist-packages/ipykernel_launcher.py:40: SettingWithCopyWarning: \n",
            "A value is trying to be set on a copy of a slice from a DataFrame\n",
            "\n",
            "See the caveats in the documentation: http://pandas.pydata.org/pandas-docs/stable/user_guide/indexing.html#returning-a-view-versus-a-copy\n",
            "/usr/local/lib/python3.6/dist-packages/ipykernel_launcher.py:41: SettingWithCopyWarning: \n",
            "A value is trying to be set on a copy of a slice from a DataFrame\n",
            "\n",
            "See the caveats in the documentation: http://pandas.pydata.org/pandas-docs/stable/user_guide/indexing.html#returning-a-view-versus-a-copy\n"
          ],
          "name": "stderr"
        },
        {
          "output_type": "stream",
          "text": [
            "Mean Absolute Percentage Error:  ['20190825_monthly_forecast.csv: 0.46256196210137773', '20190725_monthly_forecast.csv: 0.45469962226100014', '20190922_monthly_forecast.csv: 0.4851494982859487'] %\n",
            "Mean Absolute Percentage Error Next Month Only:  ['20190825_monthly_forecast.csv: 0.4103271525292033', '20190725_monthly_forecast.csv: 0.4383988453237067', '20190922_monthly_forecast.csv: 0.4851494982859487'] %\n",
            "FCA:  [0.25899501299079025, 0.24703411606221545, 0.3082269156406397] %\n",
            "MAPE:  ['20190825_monthly_forecast.csv: 0.46256196210137773', '20190725_monthly_forecast.csv: 0.45469962226100014', '20190922_monthly_forecast.csv: 0.4851494982859487'] %\n",
            "WAPE:  [0.25899501299079025, 0.24703411606221545, 0.3082269156406397]\n"
          ],
          "name": "stdout"
        }
      ]
    },
    {
      "cell_type": "code",
      "metadata": {
        "id": "iK5xShHZlVTS",
        "colab_type": "code",
        "colab": {}
      },
      "source": [
        "time_cut"
      ],
      "execution_count": 0,
      "outputs": []
    },
    {
      "cell_type": "code",
      "metadata": {
        "id": "v2u8eaHCZYuD",
        "colab_type": "code",
        "colab": {}
      },
      "source": [
        "##WRITE OUT THE MONTHLY FILE\n",
        "os.chdir(sdf_dir)\n",
        "##Master_files_month.to_excel(\"Master_files_month.xlsx\")\n",
        "##Master_files.to_excel(\"Master_files.xlsx\")\n",
        "writer.save()\n",
        "writer_monthly.save() \n",
        "\n",
        "###################################################################################################################################################################################\n",
        "\n",
        "###################################################################################################################################################################################\n",
        "\n",
        "###################################################################################################################################################################################"
      ],
      "execution_count": 0,
      "outputs": []
    },
    {
      "cell_type": "code",
      "metadata": {
        "id": "JGtS2FU9Xc4a",
        "colab_type": "code",
        "colab": {}
      },
      "source": [
        "actuals.head()"
      ],
      "execution_count": 0,
      "outputs": []
    },
    {
      "cell_type": "markdown",
      "metadata": {
        "id": "kqvATjjvyoC5",
        "colab_type": "text"
      },
      "source": [
        "EVERYTHING BELOW HERE IS EXPERIMENTALLLLLLLL"
      ]
    },
    {
      "cell_type": "markdown",
      "metadata": {
        "id": "L2_nPxCByv-O",
        "colab_type": "text"
      },
      "source": [
        "EVERYTHING BELOW HERE IS EXPERIMENTAL\n"
      ]
    },
    {
      "cell_type": "markdown",
      "metadata": {
        "id": "1mx8ysray1-P",
        "colab_type": "text"
      },
      "source": [
        "EVERYTHING BELOW IS EXPERIMENTAL\n"
      ]
    },
    {
      "cell_type": "markdown",
      "metadata": {
        "id": "xvFP_xuby0Gf",
        "colab_type": "text"
      },
      "source": [
        ""
      ]
    },
    {
      "cell_type": "code",
      "metadata": {
        "id": "GIOa2zUmv1UB",
        "colab_type": "code",
        "colab": {}
      },
      "source": [
        "from matplotlib import pyplot as plt\n",
        "\n",
        "month_plot=month.set_index(\"forecasted_time\")\n",
        "plt.figure(figsize=( 18,18))\n",
        "month_plot[[\"Forecast\",\"Actuals\"]].groupby(month_plot.index).sum().reset_index().plot(kind='bar',stacked=True,figsize=(28,18))"
      ],
      "execution_count": 0,
      "outputs": []
    },
    {
      "cell_type": "code",
      "metadata": {
        "id": "Hmr_OUkZpJhH",
        "colab_type": "code",
        "colab": {}
      },
      "source": [
        "month_plot"
      ],
      "execution_count": 0,
      "outputs": []
    },
    {
      "cell_type": "code",
      "metadata": {
        "id": "3f9pKhX7tmXh",
        "colab_type": "code",
        "colab": {}
      },
      "source": [
        "os.chdir(sdf_dir_monthly)\n",
        "sdf_forecast_files_monthly"
      ],
      "execution_count": 0,
      "outputs": []
    },
    {
      "cell_type": "code",
      "metadata": {
        "id": "pZ-aybButwD9",
        "colab_type": "code",
        "colab": {}
      },
      "source": [
        "check=pd.read_csv(\"20190725_monthly_forecast.csv\")"
      ],
      "execution_count": 0,
      "outputs": []
    },
    {
      "cell_type": "code",
      "metadata": {
        "id": "Qeyr2mfmuP-x",
        "colab_type": "code",
        "colab": {}
      },
      "source": [
        "check[check['forecasted_time']=='09/01/19'].volume.sum()"
      ],
      "execution_count": 0,
      "outputs": []
    },
    {
      "cell_type": "code",
      "metadata": {
        "id": "pxjKQwXgKgU6",
        "colab_type": "code",
        "colab": {}
      },
      "source": [
        ""
      ],
      "execution_count": 0,
      "outputs": []
    }
  ]
}